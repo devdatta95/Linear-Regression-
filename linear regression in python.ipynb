{
 "cells": [
  {
   "cell_type": "markdown",
   "metadata": {},
   "source": [
    "# Objective \n",
    "A company want's to identify how much money (Premimum Amoun). Should to be paid by person who has taken inssuarance."
   ]
  },
  {
   "cell_type": "markdown",
   "metadata": {},
   "source": [
    "# Import the necessary libraries"
   ]
  },
  {
   "cell_type": "code",
   "execution_count": 53,
   "metadata": {},
   "outputs": [],
   "source": [
    "# import the numpy and pandas package\n",
    "import numpy as np\n",
    "import pandas as pd\n",
    "\n",
    "# Data Visualisation\n",
    "import matplotlib.pyplot as plt\n",
    "import seaborn as sns\n",
    "\n",
    "%matplotlib inline"
   ]
  },
  {
   "cell_type": "code",
   "execution_count": 54,
   "metadata": {},
   "outputs": [],
   "source": [
    "#Supress warnings\n",
    "\n",
    "import warnings\n",
    "warnings.filterwarnings('ignore')\n",
    "\n",
    "\n",
    "pd.set_option('display.max_columns',None)"
   ]
  },
  {
   "cell_type": "markdown",
   "metadata": {},
   "source": [
    "# Imoport the data"
   ]
  },
  {
   "cell_type": "code",
   "execution_count": 55,
   "metadata": {},
   "outputs": [],
   "source": [
    "data = pd.read_csv(r'C:\\Users\\LENOVO\\Desktop\\All data set\\insurance.csv',header=0)\n",
    "\n",
    "# make a copy of orignal data\n",
    "data_1 = data"
   ]
  },
  {
   "cell_type": "code",
   "execution_count": 56,
   "metadata": {},
   "outputs": [
    {
     "data": {
      "text/html": [
       "<div>\n",
       "<style scoped>\n",
       "    .dataframe tbody tr th:only-of-type {\n",
       "        vertical-align: middle;\n",
       "    }\n",
       "\n",
       "    .dataframe tbody tr th {\n",
       "        vertical-align: top;\n",
       "    }\n",
       "\n",
       "    .dataframe thead th {\n",
       "        text-align: right;\n",
       "    }\n",
       "</style>\n",
       "<table border=\"1\" class=\"dataframe\">\n",
       "  <thead>\n",
       "    <tr style=\"text-align: right;\">\n",
       "      <th></th>\n",
       "      <th>age</th>\n",
       "      <th>sex</th>\n",
       "      <th>bmi</th>\n",
       "      <th>children</th>\n",
       "      <th>smoker</th>\n",
       "      <th>region</th>\n",
       "      <th>charges</th>\n",
       "      <th>Month</th>\n",
       "    </tr>\n",
       "  </thead>\n",
       "  <tbody>\n",
       "    <tr>\n",
       "      <th>0</th>\n",
       "      <td>19</td>\n",
       "      <td>female</td>\n",
       "      <td>27.900</td>\n",
       "      <td>0</td>\n",
       "      <td>yes</td>\n",
       "      <td>South</td>\n",
       "      <td>16884.92400</td>\n",
       "      <td>16.884924</td>\n",
       "    </tr>\n",
       "    <tr>\n",
       "      <th>1</th>\n",
       "      <td>18</td>\n",
       "      <td>male</td>\n",
       "      <td>33.770</td>\n",
       "      <td>1</td>\n",
       "      <td>no</td>\n",
       "      <td>South</td>\n",
       "      <td>1725.55230</td>\n",
       "      <td>1.725552</td>\n",
       "    </tr>\n",
       "    <tr>\n",
       "      <th>2</th>\n",
       "      <td>28</td>\n",
       "      <td>male</td>\n",
       "      <td>33.000</td>\n",
       "      <td>3</td>\n",
       "      <td>no</td>\n",
       "      <td>South</td>\n",
       "      <td>4449.46200</td>\n",
       "      <td>4.449462</td>\n",
       "    </tr>\n",
       "    <tr>\n",
       "      <th>3</th>\n",
       "      <td>33</td>\n",
       "      <td>male</td>\n",
       "      <td>22.705</td>\n",
       "      <td>0</td>\n",
       "      <td>no</td>\n",
       "      <td>North</td>\n",
       "      <td>21984.47061</td>\n",
       "      <td>21.984471</td>\n",
       "    </tr>\n",
       "    <tr>\n",
       "      <th>4</th>\n",
       "      <td>32</td>\n",
       "      <td>male</td>\n",
       "      <td>28.880</td>\n",
       "      <td>0</td>\n",
       "      <td>no</td>\n",
       "      <td>North</td>\n",
       "      <td>3866.85520</td>\n",
       "      <td>3.866855</td>\n",
       "    </tr>\n",
       "    <tr>\n",
       "      <th>5</th>\n",
       "      <td>31</td>\n",
       "      <td>female</td>\n",
       "      <td>25.740</td>\n",
       "      <td>0</td>\n",
       "      <td>no</td>\n",
       "      <td>South</td>\n",
       "      <td>3756.62160</td>\n",
       "      <td>3.756622</td>\n",
       "    </tr>\n",
       "    <tr>\n",
       "      <th>6</th>\n",
       "      <td>46</td>\n",
       "      <td>female</td>\n",
       "      <td>33.440</td>\n",
       "      <td>1</td>\n",
       "      <td>no</td>\n",
       "      <td>South</td>\n",
       "      <td>8240.58960</td>\n",
       "      <td>8.240590</td>\n",
       "    </tr>\n",
       "    <tr>\n",
       "      <th>7</th>\n",
       "      <td>37</td>\n",
       "      <td>female</td>\n",
       "      <td>27.740</td>\n",
       "      <td>3</td>\n",
       "      <td>no</td>\n",
       "      <td>North</td>\n",
       "      <td>7281.50560</td>\n",
       "      <td>7.281506</td>\n",
       "    </tr>\n",
       "  </tbody>\n",
       "</table>\n",
       "</div>"
      ],
      "text/plain": [
       "   age     sex     bmi  children smoker region      charges      Month\n",
       "0   19  female  27.900         0    yes  South  16884.92400  16.884924\n",
       "1   18    male  33.770         1     no  South   1725.55230   1.725552\n",
       "2   28    male  33.000         3     no  South   4449.46200   4.449462\n",
       "3   33    male  22.705         0     no  North  21984.47061  21.984471\n",
       "4   32    male  28.880         0     no  North   3866.85520   3.866855\n",
       "5   31  female  25.740         0     no  South   3756.62160   3.756622\n",
       "6   46  female  33.440         1     no  South   8240.58960   8.240590\n",
       "7   37  female  27.740         3     no  North   7281.50560   7.281506"
      ]
     },
     "execution_count": 56,
     "metadata": {},
     "output_type": "execute_result"
    }
   ],
   "source": [
    "data.head(8)"
   ]
  },
  {
   "cell_type": "markdown",
   "metadata": {},
   "source": [
    "# EDA"
   ]
  },
  {
   "cell_type": "code",
   "execution_count": 57,
   "metadata": {},
   "outputs": [
    {
     "name": "stdout",
     "output_type": "stream",
     "text": [
      "(1338, 8)\n"
     ]
    }
   ],
   "source": [
    "print(data.shape)"
   ]
  },
  {
   "cell_type": "code",
   "execution_count": 58,
   "metadata": {},
   "outputs": [
    {
     "name": "stdout",
     "output_type": "stream",
     "text": [
      "age           int64\n",
      "sex          object\n",
      "bmi         float64\n",
      "children      int64\n",
      "smoker       object\n",
      "region       object\n",
      "charges     float64\n",
      "Month       float64\n",
      "dtype: object\n"
     ]
    }
   ],
   "source": [
    "print(data.dtypes)"
   ]
  },
  {
   "cell_type": "code",
   "execution_count": 59,
   "metadata": {},
   "outputs": [
    {
     "name": "stdout",
     "output_type": "stream",
     "text": [
      "               age          bmi     children       charges        Month\n",
      "count  1338.000000  1338.000000  1338.000000   1338.000000  1338.000000\n",
      "mean     39.207025    30.663397     1.094918  13270.422265    12.479378\n",
      "std      14.049960     6.098187     1.205493  12110.011237    10.158076\n",
      "min      18.000000    15.960000     0.000000   1121.873900     1.121874\n",
      "25%      27.000000    26.296250     0.000000   4740.287150     4.740287\n",
      "50%      39.000000    30.400000     1.000000   9382.033000     9.382033\n",
      "75%      51.000000    34.693750     2.000000  16639.912515    16.639913\n",
      "max      64.000000    53.130000     5.000000  63770.428010    34.489438\n"
     ]
    }
   ],
   "source": [
    "print(data.describe())"
   ]
  },
  {
   "cell_type": "markdown",
   "metadata": {},
   "source": [
    "# Pre-Processing"
   ]
  },
  {
   "cell_type": "markdown",
   "metadata": {},
   "source": [
    "# 1. Feature selection "
   ]
  },
  {
   "cell_type": "markdown",
   "metadata": {},
   "source": [
    "Region column donsent make any sense in these datasets its just <br>\n",
    "for geogrphical location purpose so remove the region columns <br>\n",
    "and take all the features.<br>"
   ]
  },
  {
   "cell_type": "code",
   "execution_count": 60,
   "metadata": {},
   "outputs": [],
   "source": [
    "data=data.drop('region',axis=1)"
   ]
  },
  {
   "cell_type": "markdown",
   "metadata": {},
   "source": [
    "# 2. Handling missing data "
   ]
  },
  {
   "cell_type": "code",
   "execution_count": 61,
   "metadata": {},
   "outputs": [
    {
     "data": {
      "text/html": [
       "<div>\n",
       "<style scoped>\n",
       "    .dataframe tbody tr th:only-of-type {\n",
       "        vertical-align: middle;\n",
       "    }\n",
       "\n",
       "    .dataframe tbody tr th {\n",
       "        vertical-align: top;\n",
       "    }\n",
       "\n",
       "    .dataframe thead th {\n",
       "        text-align: right;\n",
       "    }\n",
       "</style>\n",
       "<table border=\"1\" class=\"dataframe\">\n",
       "  <thead>\n",
       "    <tr style=\"text-align: right;\">\n",
       "      <th></th>\n",
       "      <th>age</th>\n",
       "      <th>sex</th>\n",
       "      <th>bmi</th>\n",
       "      <th>children</th>\n",
       "      <th>smoker</th>\n",
       "      <th>charges</th>\n",
       "      <th>Month</th>\n",
       "    </tr>\n",
       "  </thead>\n",
       "  <tbody>\n",
       "    <tr>\n",
       "      <th>0</th>\n",
       "      <td>19</td>\n",
       "      <td>female</td>\n",
       "      <td>27.900</td>\n",
       "      <td>0</td>\n",
       "      <td>yes</td>\n",
       "      <td>16884.92400</td>\n",
       "      <td>16.884924</td>\n",
       "    </tr>\n",
       "    <tr>\n",
       "      <th>1</th>\n",
       "      <td>18</td>\n",
       "      <td>male</td>\n",
       "      <td>33.770</td>\n",
       "      <td>1</td>\n",
       "      <td>no</td>\n",
       "      <td>1725.55230</td>\n",
       "      <td>1.725552</td>\n",
       "    </tr>\n",
       "    <tr>\n",
       "      <th>2</th>\n",
       "      <td>28</td>\n",
       "      <td>male</td>\n",
       "      <td>33.000</td>\n",
       "      <td>3</td>\n",
       "      <td>no</td>\n",
       "      <td>4449.46200</td>\n",
       "      <td>4.449462</td>\n",
       "    </tr>\n",
       "    <tr>\n",
       "      <th>3</th>\n",
       "      <td>33</td>\n",
       "      <td>male</td>\n",
       "      <td>22.705</td>\n",
       "      <td>0</td>\n",
       "      <td>no</td>\n",
       "      <td>21984.47061</td>\n",
       "      <td>21.984471</td>\n",
       "    </tr>\n",
       "    <tr>\n",
       "      <th>4</th>\n",
       "      <td>32</td>\n",
       "      <td>male</td>\n",
       "      <td>28.880</td>\n",
       "      <td>0</td>\n",
       "      <td>no</td>\n",
       "      <td>3866.85520</td>\n",
       "      <td>3.866855</td>\n",
       "    </tr>\n",
       "    <tr>\n",
       "      <th>5</th>\n",
       "      <td>31</td>\n",
       "      <td>female</td>\n",
       "      <td>25.740</td>\n",
       "      <td>0</td>\n",
       "      <td>no</td>\n",
       "      <td>3756.62160</td>\n",
       "      <td>3.756622</td>\n",
       "    </tr>\n",
       "    <tr>\n",
       "      <th>6</th>\n",
       "      <td>46</td>\n",
       "      <td>female</td>\n",
       "      <td>33.440</td>\n",
       "      <td>1</td>\n",
       "      <td>no</td>\n",
       "      <td>8240.58960</td>\n",
       "      <td>8.240590</td>\n",
       "    </tr>\n",
       "    <tr>\n",
       "      <th>7</th>\n",
       "      <td>37</td>\n",
       "      <td>female</td>\n",
       "      <td>27.740</td>\n",
       "      <td>3</td>\n",
       "      <td>no</td>\n",
       "      <td>7281.50560</td>\n",
       "      <td>7.281506</td>\n",
       "    </tr>\n",
       "  </tbody>\n",
       "</table>\n",
       "</div>"
      ],
      "text/plain": [
       "   age     sex     bmi  children smoker      charges      Month\n",
       "0   19  female  27.900         0    yes  16884.92400  16.884924\n",
       "1   18    male  33.770         1     no   1725.55230   1.725552\n",
       "2   28    male  33.000         3     no   4449.46200   4.449462\n",
       "3   33    male  22.705         0     no  21984.47061  21.984471\n",
       "4   32    male  28.880         0     no   3866.85520   3.866855\n",
       "5   31  female  25.740         0     no   3756.62160   3.756622\n",
       "6   46  female  33.440         1     no   8240.58960   8.240590\n",
       "7   37  female  27.740         3     no   7281.50560   7.281506"
      ]
     },
     "execution_count": 61,
     "metadata": {},
     "output_type": "execute_result"
    }
   ],
   "source": [
    "data.head(8)"
   ]
  },
  {
   "cell_type": "code",
   "execution_count": 62,
   "metadata": {},
   "outputs": [
    {
     "data": {
      "text/html": [
       "<div>\n",
       "<style scoped>\n",
       "    .dataframe tbody tr th:only-of-type {\n",
       "        vertical-align: middle;\n",
       "    }\n",
       "\n",
       "    .dataframe tbody tr th {\n",
       "        vertical-align: top;\n",
       "    }\n",
       "\n",
       "    .dataframe thead th {\n",
       "        text-align: right;\n",
       "    }\n",
       "</style>\n",
       "<table border=\"1\" class=\"dataframe\">\n",
       "  <thead>\n",
       "    <tr style=\"text-align: right;\">\n",
       "      <th></th>\n",
       "      <th>Total</th>\n",
       "      <th>Percent</th>\n",
       "    </tr>\n",
       "  </thead>\n",
       "  <tbody>\n",
       "    <tr>\n",
       "      <th>Month</th>\n",
       "      <td>0</td>\n",
       "      <td>0.0</td>\n",
       "    </tr>\n",
       "    <tr>\n",
       "      <th>charges</th>\n",
       "      <td>0</td>\n",
       "      <td>0.0</td>\n",
       "    </tr>\n",
       "    <tr>\n",
       "      <th>smoker</th>\n",
       "      <td>0</td>\n",
       "      <td>0.0</td>\n",
       "    </tr>\n",
       "    <tr>\n",
       "      <th>children</th>\n",
       "      <td>0</td>\n",
       "      <td>0.0</td>\n",
       "    </tr>\n",
       "    <tr>\n",
       "      <th>bmi</th>\n",
       "      <td>0</td>\n",
       "      <td>0.0</td>\n",
       "    </tr>\n",
       "  </tbody>\n",
       "</table>\n",
       "</div>"
      ],
      "text/plain": [
       "          Total  Percent\n",
       "Month         0      0.0\n",
       "charges       0      0.0\n",
       "smoker        0      0.0\n",
       "children      0      0.0\n",
       "bmi           0      0.0"
      ]
     },
     "execution_count": 62,
     "metadata": {},
     "output_type": "execute_result"
    }
   ],
   "source": [
    "total = data.isnull().sum().sort_values(ascending=False)\n",
    "percent= (data.isnull().sum()/data.isnull().count()).sort_values(ascending=False)\n",
    "missing_data = pd.concat([total,percent],axis=1,keys=['Total','Percent'])\n",
    "missing_data.head()"
   ]
  },
  {
   "cell_type": "markdown",
   "metadata": {},
   "source": [
    "No missing value present in the data set"
   ]
  },
  {
   "cell_type": "code",
   "execution_count": null,
   "metadata": {},
   "outputs": [],
   "source": [
    "X = data[['Index','Age','Gender','Total_Bilirubin','Direct_Bilirubin','Alkaline_Phosphotase',\n",
    "'Alamine_Aminotransferase','Aspartate_Aminotransferase','Total_Protiens,Albumin',\n",
    "'Albumin_and_Globulin_Ratio']]\n",
    "y = data[['Class']]"
   ]
  },
  {
   "cell_type": "markdown",
   "metadata": {},
   "source": [
    "# 3. Outlier Imputation"
   ]
  },
  {
   "cell_type": "code",
   "execution_count": 63,
   "metadata": {},
   "outputs": [
    {
     "data": {
      "image/png": "[encoded data removed]",
      "text/plain": [
       "<Figure size 720x720 with 5 Axes>"
      ]
     },
     "metadata": {
      "needs_background": "light"
     },
     "output_type": "display_data"
    }
   ],
   "source": [
    "fig, axs = plt.subplots(5,figsize=(10,10))\n",
    "plt1 = sns.boxplot(data['age'], ax = axs[0])\n",
    "ptt2 = sns.boxplot(data['bmi'],ax=axs[1])\n",
    "plt3 = sns.boxplot(data['children'],ax=axs[2])\n",
    "plt4 = sns.boxplot(data['charges'],ax=axs[3])\n",
    "plt5 = sns.boxplot(data['Month'],ax=axs[4])\n",
    "plt.tight_layout()\n",
    "plt.show()"
   ]
  },
  {
   "cell_type": "markdown",
   "metadata": {},
   "source": [
    " when ever we see a cluster of point then do not impute the outlier \n",
    "    if we are manipulatig so many points then we are making bais variable "
   ]
  },
  {
   "cell_type": "markdown",
   "metadata": {},
   "source": [
    "logically revelent value should not be imputed cluster of point should not be imputed money related varible should not be imputed\n",
    " try eleminating the extreme values rahter than bringing them to the medain level"
   ]
  },
  {
   "cell_type": "markdown",
   "metadata": {},
   "source": [
    "so the charges value are logically accepted so no need to impute the outlier \n"
   ]
  },
  {
   "cell_type": "markdown",
   "metadata": {},
   "source": [
    "# Converting Categorical data Into Numeric"
   ]
  },
  {
   "cell_type": "code",
   "execution_count": 64,
   "metadata": {},
   "outputs": [],
   "source": [
    "data = pd.get_dummies(data)"
   ]
  },
  {
   "cell_type": "code",
   "execution_count": 65,
   "metadata": {},
   "outputs": [
    {
     "data": {
      "text/html": [
       "<div>\n",
       "<style scoped>\n",
       "    .dataframe tbody tr th:only-of-type {\n",
       "        vertical-align: middle;\n",
       "    }\n",
       "\n",
       "    .dataframe tbody tr th {\n",
       "        vertical-align: top;\n",
       "    }\n",
       "\n",
       "    .dataframe thead th {\n",
       "        text-align: right;\n",
       "    }\n",
       "</style>\n",
       "<table border=\"1\" class=\"dataframe\">\n",
       "  <thead>\n",
       "    <tr style=\"text-align: right;\">\n",
       "      <th></th>\n",
       "      <th>age</th>\n",
       "      <th>bmi</th>\n",
       "      <th>children</th>\n",
       "      <th>charges</th>\n",
       "      <th>Month</th>\n",
       "      <th>sex_female</th>\n",
       "      <th>sex_male</th>\n",
       "      <th>smoker_no</th>\n",
       "      <th>smoker_yes</th>\n",
       "    </tr>\n",
       "  </thead>\n",
       "  <tbody>\n",
       "    <tr>\n",
       "      <th>0</th>\n",
       "      <td>19</td>\n",
       "      <td>27.900</td>\n",
       "      <td>0</td>\n",
       "      <td>16884.92400</td>\n",
       "      <td>16.884924</td>\n",
       "      <td>1</td>\n",
       "      <td>0</td>\n",
       "      <td>0</td>\n",
       "      <td>1</td>\n",
       "    </tr>\n",
       "    <tr>\n",
       "      <th>1</th>\n",
       "      <td>18</td>\n",
       "      <td>33.770</td>\n",
       "      <td>1</td>\n",
       "      <td>1725.55230</td>\n",
       "      <td>1.725552</td>\n",
       "      <td>0</td>\n",
       "      <td>1</td>\n",
       "      <td>1</td>\n",
       "      <td>0</td>\n",
       "    </tr>\n",
       "    <tr>\n",
       "      <th>2</th>\n",
       "      <td>28</td>\n",
       "      <td>33.000</td>\n",
       "      <td>3</td>\n",
       "      <td>4449.46200</td>\n",
       "      <td>4.449462</td>\n",
       "      <td>0</td>\n",
       "      <td>1</td>\n",
       "      <td>1</td>\n",
       "      <td>0</td>\n",
       "    </tr>\n",
       "    <tr>\n",
       "      <th>3</th>\n",
       "      <td>33</td>\n",
       "      <td>22.705</td>\n",
       "      <td>0</td>\n",
       "      <td>21984.47061</td>\n",
       "      <td>21.984471</td>\n",
       "      <td>0</td>\n",
       "      <td>1</td>\n",
       "      <td>1</td>\n",
       "      <td>0</td>\n",
       "    </tr>\n",
       "    <tr>\n",
       "      <th>4</th>\n",
       "      <td>32</td>\n",
       "      <td>28.880</td>\n",
       "      <td>0</td>\n",
       "      <td>3866.85520</td>\n",
       "      <td>3.866855</td>\n",
       "      <td>0</td>\n",
       "      <td>1</td>\n",
       "      <td>1</td>\n",
       "      <td>0</td>\n",
       "    </tr>\n",
       "  </tbody>\n",
       "</table>\n",
       "</div>"
      ],
      "text/plain": [
       "   age     bmi  children      charges      Month  sex_female  sex_male  \\\n",
       "0   19  27.900         0  16884.92400  16.884924           1         0   \n",
       "1   18  33.770         1   1725.55230   1.725552           0         1   \n",
       "2   28  33.000         3   4449.46200   4.449462           0         1   \n",
       "3   33  22.705         0  21984.47061  21.984471           0         1   \n",
       "4   32  28.880         0   3866.85520   3.866855           0         1   \n",
       "\n",
       "   smoker_no  smoker_yes  \n",
       "0          0           1  \n",
       "1          1           0  \n",
       "2          1           0  \n",
       "3          1           0  \n",
       "4          1           0  "
      ]
     },
     "execution_count": 65,
     "metadata": {},
     "output_type": "execute_result"
    }
   ],
   "source": [
    "data.head()"
   ]
  },
  {
   "cell_type": "code",
   "execution_count": 66,
   "metadata": {},
   "outputs": [],
   "source": [
    "# Avoiding Dummy Variable Trap\n",
    "data=data.drop('sex_female',axis=1)\n",
    "data=data.drop('smoker_no',axis=1)"
   ]
  },
  {
   "cell_type": "code",
   "execution_count": 67,
   "metadata": {
    "scrolled": true
   },
   "outputs": [
    {
     "data": {
      "text/html": [
       "<div>\n",
       "<style scoped>\n",
       "    .dataframe tbody tr th:only-of-type {\n",
       "        vertical-align: middle;\n",
       "    }\n",
       "\n",
       "    .dataframe tbody tr th {\n",
       "        vertical-align: top;\n",
       "    }\n",
       "\n",
       "    .dataframe thead th {\n",
       "        text-align: right;\n",
       "    }\n",
       "</style>\n",
       "<table border=\"1\" class=\"dataframe\">\n",
       "  <thead>\n",
       "    <tr style=\"text-align: right;\">\n",
       "      <th></th>\n",
       "      <th>age</th>\n",
       "      <th>bmi</th>\n",
       "      <th>children</th>\n",
       "      <th>charges</th>\n",
       "      <th>Month</th>\n",
       "      <th>sex_male</th>\n",
       "      <th>smoker_yes</th>\n",
       "    </tr>\n",
       "  </thead>\n",
       "  <tbody>\n",
       "    <tr>\n",
       "      <th>0</th>\n",
       "      <td>19</td>\n",
       "      <td>27.900</td>\n",
       "      <td>0</td>\n",
       "      <td>16884.92400</td>\n",
       "      <td>16.884924</td>\n",
       "      <td>0</td>\n",
       "      <td>1</td>\n",
       "    </tr>\n",
       "    <tr>\n",
       "      <th>1</th>\n",
       "      <td>18</td>\n",
       "      <td>33.770</td>\n",
       "      <td>1</td>\n",
       "      <td>1725.55230</td>\n",
       "      <td>1.725552</td>\n",
       "      <td>1</td>\n",
       "      <td>0</td>\n",
       "    </tr>\n",
       "    <tr>\n",
       "      <th>2</th>\n",
       "      <td>28</td>\n",
       "      <td>33.000</td>\n",
       "      <td>3</td>\n",
       "      <td>4449.46200</td>\n",
       "      <td>4.449462</td>\n",
       "      <td>1</td>\n",
       "      <td>0</td>\n",
       "    </tr>\n",
       "    <tr>\n",
       "      <th>3</th>\n",
       "      <td>33</td>\n",
       "      <td>22.705</td>\n",
       "      <td>0</td>\n",
       "      <td>21984.47061</td>\n",
       "      <td>21.984471</td>\n",
       "      <td>1</td>\n",
       "      <td>0</td>\n",
       "    </tr>\n",
       "    <tr>\n",
       "      <th>4</th>\n",
       "      <td>32</td>\n",
       "      <td>28.880</td>\n",
       "      <td>0</td>\n",
       "      <td>3866.85520</td>\n",
       "      <td>3.866855</td>\n",
       "      <td>1</td>\n",
       "      <td>0</td>\n",
       "    </tr>\n",
       "  </tbody>\n",
       "</table>\n",
       "</div>"
      ],
      "text/plain": [
       "   age     bmi  children      charges      Month  sex_male  smoker_yes\n",
       "0   19  27.900         0  16884.92400  16.884924         0           1\n",
       "1   18  33.770         1   1725.55230   1.725552         1           0\n",
       "2   28  33.000         3   4449.46200   4.449462         1           0\n",
       "3   33  22.705         0  21984.47061  21.984471         1           0\n",
       "4   32  28.880         0   3866.85520   3.866855         1           0"
      ]
     },
     "execution_count": 67,
     "metadata": {},
     "output_type": "execute_result"
    }
   ],
   "source": [
    "data.head()"
   ]
  },
  {
   "cell_type": "markdown",
   "metadata": {},
   "source": [
    "# Seprate features and Labels"
   ]
  },
  {
   "cell_type": "code",
   "execution_count": 68,
   "metadata": {},
   "outputs": [],
   "source": [
    "x = data[['age','bmi','children','Month','sex_male','smoker_yes']]\n",
    "y = data[['charges']]"
   ]
  },
  {
   "cell_type": "markdown",
   "metadata": {},
   "source": [
    "# Pre-Model Building Assumption\n",
    "\n",
    "linear regression is parametric test so it makes some assumptions of the data so we have to check whether or not it follows all the assumptions of linear Regressioni."
   ]
  },
  {
   "cell_type": "code",
   "execution_count": 69,
   "metadata": {},
   "outputs": [
    {
     "data": {
      "text/plain": [
       "<seaborn.axisgrid.PairGrid at 0x1b068149390>"
      ]
     },
     "execution_count": 69,
     "metadata": {},
     "output_type": "execute_result"
    },
    {
     "data": {
      "image/png": "[encoded data removed]",
      "text/plain": [
       "<Figure size 1080x360 with 3 Axes>"
      ]
     },
     "metadata": {
      "needs_background": "light"
     },
     "output_type": "display_data"
    }
   ],
   "source": [
    "# 1. Every IV could have a linear relationship with the DV (pair-plot)\n",
    "\n",
    "sns.pairplot(data, x_vars=['age','bmi',\n",
    "                           'Month',],\n",
    "                   y_vars='charges',\n",
    "             kind='reg',height=5)"
   ]
  },
  {
   "cell_type": "code",
   "execution_count": 70,
   "metadata": {
    "scrolled": true
   },
   "outputs": [
    {
     "data": {
      "text/plain": [
       "<matplotlib.axes._subplots.AxesSubplot at 0x1b065f5a320>"
      ]
     },
     "execution_count": 70,
     "metadata": {},
     "output_type": "execute_result"
    },
    {
     "data": {
      "image/png": "[encoded data removed]",
      "text/plain": [
       "<Figure size 432x288 with 1 Axes>"
      ]
     },
     "metadata": {
      "needs_background": "light"
     },
     "output_type": "display_data"
    }
   ],
   "source": [
    "# 2. DV  should follow normal distribution\n",
    "\n",
    "from scipy.stats import norm\n",
    "sns.distplot(y,hist=True, fit=norm)"
   ]
  },
  {
   "cell_type": "code",
   "execution_count": 71,
   "metadata": {},
   "outputs": [],
   "source": [
    "# Appling log transformation\n",
    "y= np.log(y)"
   ]
  },
  {
   "cell_type": "code",
   "execution_count": 72,
   "metadata": {},
   "outputs": [
    {
     "data": {
      "text/plain": [
       "<matplotlib.axes._subplots.AxesSubplot at 0x1b065fd36a0>"
      ]
     },
     "execution_count": 72,
     "metadata": {},
     "output_type": "execute_result"
    },
    {
     "data": {
      "image/png": "[encoded data removed]",
      "text/plain": [
       "<Figure size 432x288 with 1 Axes>"
      ]
     },
     "metadata": {
      "needs_background": "light"
     },
     "output_type": "display_data"
    }
   ],
   "source": [
    "sns.distplot(y,hist=True, fit=norm)"
   ]
  },
  {
   "cell_type": "markdown",
   "metadata": {},
   "source": [
    "After log transformation the Dv is now normally distributed."
   ]
  },
  {
   "cell_type": "code",
   "execution_count": 73,
   "metadata": {},
   "outputs": [
    {
     "data": {
      "text/plain": [
       "array([[<matplotlib.axes._subplots.AxesSubplot object at 0x000001B068436EB8>,\n",
       "        <matplotlib.axes._subplots.AxesSubplot object at 0x000001B0684651D0>],\n",
       "       [<matplotlib.axes._subplots.AxesSubplot object at 0x000001B06870B748>,\n",
       "        <matplotlib.axes._subplots.AxesSubplot object at 0x000001B068733CC0>],\n",
       "       [<matplotlib.axes._subplots.AxesSubplot object at 0x000001B068764278>,\n",
       "        <matplotlib.axes._subplots.AxesSubplot object at 0x000001B06878B7F0>]],\n",
       "      dtype=object)"
      ]
     },
     "execution_count": 73,
     "metadata": {},
     "output_type": "execute_result"
    },
    {
     "data": {
      "image/png": "[encoded data removed]",
      "text/plain": [
       "<Figure size 432x288 with 6 Axes>"
      ]
     },
     "metadata": {
      "needs_background": "light"
     },
     "output_type": "display_data"
    }
   ],
   "source": [
    "x.hist(bins=20)"
   ]
  },
  {
   "cell_type": "markdown",
   "metadata": {},
   "source": [
    "children , month, smoker_yes are not following normal dist. \n",
    "so apply log transformation if the skewness is greater than 0.75\n",
    "or less than -0.75"
   ]
  },
  {
   "cell_type": "code",
   "execution_count": 74,
   "metadata": {},
   "outputs": [
    {
     "name": "stdout",
     "output_type": "stream",
     "text": [
      "age           0.055610\n",
      "bmi           0.283729\n",
      "children      0.937328\n",
      "Month         1.082518\n",
      "sex_male     -0.020928\n",
      "smoker_yes    1.463124\n",
      "dtype: float64\n",
      "\n",
      "children      0.937328\n",
      "Month         1.082518\n",
      "smoker_yes    1.463124\n",
      "dtype: float64\n"
     ]
    }
   ],
   "source": [
    "from scipy.stats import skew\n",
    "data_num_skew = x.apply(lambda x: skew(x.dropna()))\n",
    "data_num_skewed = data_num_skew[(data_num_skew > .75) | (data_num_skew < -.75)]\n",
    "\n",
    "print(data_num_skew)\n",
    "print()\n",
    "print(data_num_skewed)\n",
    "import numpy as np\n",
    "# apply log + 1 transformation for all numeric features with skewnes over .75\n",
    "x[data_num_skewed.index] = np.log1p(x[data_num_skewed.index]) "
   ]
  },
  {
   "cell_type": "code",
   "execution_count": 75,
   "metadata": {},
   "outputs": [
    {
     "data": {
      "text/plain": [
       "array([[<matplotlib.axes._subplots.AxesSubplot object at 0x000001B0689276D8>,\n",
       "        <matplotlib.axes._subplots.AxesSubplot object at 0x000001B0689A0860>],\n",
       "       [<matplotlib.axes._subplots.AxesSubplot object at 0x000001B0689BBDD8>,\n",
       "        <matplotlib.axes._subplots.AxesSubplot object at 0x000001B0689E8390>],\n",
       "       [<matplotlib.axes._subplots.AxesSubplot object at 0x000001B068A11908>,\n",
       "        <matplotlib.axes._subplots.AxesSubplot object at 0x000001B068A3CE80>]],\n",
       "      dtype=object)"
      ]
     },
     "execution_count": 75,
     "metadata": {},
     "output_type": "execute_result"
    },
    {
     "data": {
      "image/png": "[encoded data removed]",
      "text/plain": [
       "<Figure size 432x288 with 6 Axes>"
      ]
     },
     "metadata": {
      "needs_background": "light"
     },
     "output_type": "display_data"
    }
   ],
   "source": [
    "x.hist(bins=20)"
   ]
  },
  {
   "cell_type": "code",
   "execution_count": 76,
   "metadata": {},
   "outputs": [
    {
     "name": "stdout",
     "output_type": "stream",
     "text": [
      "                 age       bmi  children     Month  sex_male  smoker_yes\n",
      "age         1.000000  0.109272  0.048406  0.513331 -0.020856   -0.025019\n",
      "bmi         0.109272  1.000000  0.016178  0.120945  0.046371    0.003750\n",
      "children    0.048406  0.016178  1.000000  0.158127  0.016296    0.013245\n",
      "Month       0.513331  0.120945  0.158127  1.000000  0.010044    0.672209\n",
      "sex_male   -0.020856  0.046371  0.016296  0.010044  1.000000    0.076185\n",
      "smoker_yes -0.025019  0.003750  0.013245  0.672209  0.076185    1.000000\n"
     ]
    }
   ],
   "source": [
    "# 3. No multicolinearity\n",
    "corr_df=x.corr(method='pearson')\n",
    "print(corr_df)"
   ]
  },
  {
   "cell_type": "code",
   "execution_count": 77,
   "metadata": {},
   "outputs": [
    {
     "data": {
      "text/plain": [
       "<matplotlib.axes._subplots.AxesSubplot at 0x1b068bf6208>"
      ]
     },
     "execution_count": 77,
     "metadata": {},
     "output_type": "execute_result"
    },
    {
     "data": {
      "image/png": "[encoded data removed]",
      "text/plain": [
       "<Figure size 432x288 with 2 Axes>"
      ]
     },
     "metadata": {
      "needs_background": "light"
     },
     "output_type": "display_data"
    }
   ],
   "source": [
    "sns.heatmap(corr_df, vmin=-1.0,annot=True)"
   ]
  },
  {
   "cell_type": "code",
   "execution_count": 80,
   "metadata": {
    "scrolled": true
   },
   "outputs": [
    {
     "data": {
      "text/html": [
       "<div>\n",
       "<style scoped>\n",
       "    .dataframe tbody tr th:only-of-type {\n",
       "        vertical-align: middle;\n",
       "    }\n",
       "\n",
       "    .dataframe tbody tr th {\n",
       "        vertical-align: top;\n",
       "    }\n",
       "\n",
       "    .dataframe thead th {\n",
       "        text-align: right;\n",
       "    }\n",
       "</style>\n",
       "<table border=\"1\" class=\"dataframe\">\n",
       "  <thead>\n",
       "    <tr style=\"text-align: right;\">\n",
       "      <th></th>\n",
       "      <th>features</th>\n",
       "      <th>VIF Factor</th>\n",
       "    </tr>\n",
       "  </thead>\n",
       "  <tbody>\n",
       "    <tr>\n",
       "      <th>0</th>\n",
       "      <td>age</td>\n",
       "      <td>18.38</td>\n",
       "    </tr>\n",
       "    <tr>\n",
       "      <th>1</th>\n",
       "      <td>bmi</td>\n",
       "      <td>12.03</td>\n",
       "    </tr>\n",
       "    <tr>\n",
       "      <th>2</th>\n",
       "      <td>children</td>\n",
       "      <td>2.21</td>\n",
       "    </tr>\n",
       "    <tr>\n",
       "      <th>3</th>\n",
       "      <td>Month</td>\n",
       "      <td>37.77</td>\n",
       "    </tr>\n",
       "    <tr>\n",
       "      <th>4</th>\n",
       "      <td>sex_male</td>\n",
       "      <td>2.00</td>\n",
       "    </tr>\n",
       "    <tr>\n",
       "      <th>5</th>\n",
       "      <td>smoker_yes</td>\n",
       "      <td>3.55</td>\n",
       "    </tr>\n",
       "  </tbody>\n",
       "</table>\n",
       "</div>"
      ],
      "text/plain": [
       "     features  VIF Factor\n",
       "0         age       18.38\n",
       "1         bmi       12.03\n",
       "2    children        2.21\n",
       "3       Month       37.77\n",
       "4    sex_male        2.00\n",
       "5  smoker_yes        3.55"
      ]
     },
     "execution_count": 80,
     "metadata": {},
     "output_type": "execute_result"
    }
   ],
   "source": [
    "from statsmodels.stats.outliers_influence import variance_inflation_factor as vif\n",
    "\n",
    "vif_df = pd.DataFrame()\n",
    "vif_df[\"features\"] =x.columns\n",
    "vif_df[\"VIF Factor\"] = [vif(x.values, i) for i in range(x.shape[1])]\n",
    "vif_df.round(2)"
   ]
  },
  {
   "cell_type": "markdown",
   "metadata": {},
   "source": [
    "# Data Partition\n"
   ]
  },
  {
   "cell_type": "code",
   "execution_count": 81,
   "metadata": {},
   "outputs": [],
   "source": [
    "\n",
    "from sklearn.model_selection import train_test_split\n",
    "\n",
    "x_train, x_test, y_train, y_test = train_test_split(x, y, test_size=0.3, random_state=10)\n",
    "\n"
   ]
  },
  {
   "cell_type": "code",
   "execution_count": 82,
   "metadata": {},
   "outputs": [
    {
     "data": {
      "text/html": [
       "<div>\n",
       "<style scoped>\n",
       "    .dataframe tbody tr th:only-of-type {\n",
       "        vertical-align: middle;\n",
       "    }\n",
       "\n",
       "    .dataframe tbody tr th {\n",
       "        vertical-align: top;\n",
       "    }\n",
       "\n",
       "    .dataframe thead th {\n",
       "        text-align: right;\n",
       "    }\n",
       "</style>\n",
       "<table border=\"1\" class=\"dataframe\">\n",
       "  <thead>\n",
       "    <tr style=\"text-align: right;\">\n",
       "      <th></th>\n",
       "      <th>charges</th>\n",
       "    </tr>\n",
       "  </thead>\n",
       "  <tbody>\n",
       "    <tr>\n",
       "      <th>428</th>\n",
       "      <td>8.060684</td>\n",
       "    </tr>\n",
       "    <tr>\n",
       "      <th>226</th>\n",
       "      <td>7.897109</td>\n",
       "    </tr>\n",
       "    <tr>\n",
       "      <th>867</th>\n",
       "      <td>9.356700</td>\n",
       "    </tr>\n",
       "    <tr>\n",
       "      <th>397</th>\n",
       "      <td>9.716344</td>\n",
       "    </tr>\n",
       "    <tr>\n",
       "      <th>300</th>\n",
       "      <td>8.816815</td>\n",
       "    </tr>\n",
       "  </tbody>\n",
       "</table>\n",
       "</div>"
      ],
      "text/plain": [
       "      charges\n",
       "428  8.060684\n",
       "226  7.897109\n",
       "867  9.356700\n",
       "397  9.716344\n",
       "300  8.816815"
      ]
     },
     "execution_count": 82,
     "metadata": {},
     "output_type": "execute_result"
    }
   ],
   "source": [
    "y_train.head()"
   ]
  },
  {
   "cell_type": "markdown",
   "metadata": {},
   "source": [
    "# Create the Linear Model"
   ]
  },
  {
   "cell_type": "code",
   "execution_count": 83,
   "metadata": {},
   "outputs": [],
   "source": [
    "from sklearn.linear_model  import LinearRegression\n",
    "regressor = LinearRegression()\n",
    "model1= regressor.fit(x_train,y_train)"
   ]
  },
  {
   "cell_type": "code",
   "execution_count": 84,
   "metadata": {},
   "outputs": [
    {
     "name": "stdout",
     "output_type": "stream",
     "text": [
      "[6.27258644]\n",
      "[[ 0.00225642  0.00190044  0.03249455  1.1443126  -0.00958966  0.08373028]]\n"
     ]
    }
   ],
   "source": [
    "# print the intercept and coefficients\n",
    "\n",
    "print(model1.intercept_)\n",
    "print(model1.coef_)\n"
   ]
  },
  {
   "cell_type": "code",
   "execution_count": 85,
   "metadata": {},
   "outputs": [
    {
     "data": {
      "text/plain": [
       "[('age',\n",
       "  array([ 0.00225642,  0.00190044,  0.03249455,  1.1443126 , -0.00958966,\n",
       "          0.08373028]))]"
      ]
     },
     "execution_count": 85,
     "metadata": {},
     "output_type": "execute_result"
    }
   ],
   "source": [
    "# pair the features name with the coefficents\n",
    "a=list(zip(x.columns,model1.coef_))\n",
    "a"
   ]
  },
  {
   "cell_type": "code",
   "execution_count": 86,
   "metadata": {},
   "outputs": [
    {
     "data": {
      "text/plain": [
       "[array([ 0.00225642,  0.00190044,  0.03249455,  1.1443126 , -0.00958966,\n",
       "         0.08373028])]"
      ]
     },
     "execution_count": 86,
     "metadata": {},
     "output_type": "execute_result"
    }
   ],
   "source": [
    "coef=list(model1.coef_)\n",
    "coef"
   ]
  },
  {
   "cell_type": "markdown",
   "metadata": {},
   "source": [
    "# Accuracy for train test data"
   ]
  },
  {
   "cell_type": "code",
   "execution_count": 87,
   "metadata": {},
   "outputs": [
    {
     "name": "stdout",
     "output_type": "stream",
     "text": [
      "Train Score : 0.9959603078282446\n",
      "Train Score : 0.9945147463950647\n"
     ]
    }
   ],
   "source": [
    "print('Train Score :', model1.score(x_train,y_train))\n",
    "print('Train Score :', model1.score(x_test,y_test))\n"
   ]
  },
  {
   "cell_type": "markdown",
   "metadata": {},
   "source": [
    "# Prediction"
   ]
  },
  {
   "cell_type": "code",
   "execution_count": 88,
   "metadata": {},
   "outputs": [
    {
     "name": "stdout",
     "output_type": "stream",
     "text": [
      "[[ 8.87294415]\n",
      " [ 8.50521439]\n",
      " [ 9.45441743]\n",
      " [10.16453863]\n",
      " [ 8.16722996]\n",
      " [ 8.87739379]\n",
      " [ 9.19072182]\n",
      " [ 9.76218013]\n",
      " [ 8.99398246]\n",
      " [ 9.97427081]\n",
      " [ 7.99941538]\n",
      " [ 8.07757248]\n",
      " [ 8.76551984]\n",
      " [ 9.05393977]\n",
      " [10.25963538]\n",
      " [ 9.47455239]\n",
      " [ 8.06566701]\n",
      " [ 9.71064263]\n",
      " [ 9.30110441]\n",
      " [10.00333165]\n",
      " [10.58673941]\n",
      " [ 7.68974768]\n",
      " [ 7.69357255]\n",
      " [ 8.74671972]\n",
      " [ 8.33892186]\n",
      " [ 9.45389408]\n",
      " [ 8.94929524]\n",
      " [ 9.45648165]\n",
      " [ 8.27088054]\n",
      " [10.02672462]\n",
      " [ 7.26715702]\n",
      " [10.59613946]\n",
      " [ 9.79963287]\n",
      " [ 8.99218968]\n",
      " [ 8.13880055]\n",
      " [ 8.67105175]\n",
      " [ 9.50827571]\n",
      " [ 9.10137787]\n",
      " [10.19422246]\n",
      " [ 8.92909441]\n",
      " [ 9.575049  ]\n",
      " [10.39973505]\n",
      " [ 8.50296321]\n",
      " [ 9.44440659]\n",
      " [ 7.25602446]\n",
      " [ 8.82582765]\n",
      " [ 9.01948339]\n",
      " [10.60141042]\n",
      " [ 9.40633465]\n",
      " [ 9.33369817]\n",
      " [10.57060932]\n",
      " [ 8.03311491]\n",
      " [ 8.89270433]\n",
      " [ 9.56814297]\n",
      " [10.26930459]\n",
      " [ 9.44379798]\n",
      " [ 9.29495804]\n",
      " [ 8.57003611]\n",
      " [ 8.70472741]\n",
      " [10.61889569]\n",
      " [ 7.49197402]\n",
      " [10.1671592 ]\n",
      " [10.41419399]\n",
      " [ 7.48530532]\n",
      " [ 9.7983759 ]\n",
      " [ 8.86488631]\n",
      " [ 9.79946896]\n",
      " [ 8.86501879]\n",
      " [ 8.9125289 ]\n",
      " [10.22841271]\n",
      " [ 8.84238129]\n",
      " [ 7.52839033]\n",
      " [ 8.84271158]\n",
      " [ 8.82796314]\n",
      " [ 8.99510017]\n",
      " [ 9.26411073]\n",
      " [ 8.4396505 ]\n",
      " [ 8.7410895 ]\n",
      " [ 7.44922839]\n",
      " [ 9.24398215]\n",
      " [ 9.24425749]\n",
      " [ 9.14719039]\n",
      " [ 9.85086815]\n",
      " [ 8.13690761]\n",
      " [10.19458513]\n",
      " [ 8.10422857]\n",
      " [ 7.23538083]\n",
      " [ 7.59163553]\n",
      " [ 8.60681486]\n",
      " [ 9.22303839]\n",
      " [10.06794593]\n",
      " [10.56459089]\n",
      " [ 9.14973102]\n",
      " [10.62459166]\n",
      " [ 9.51507677]\n",
      " [ 8.27666414]\n",
      " [ 8.71446193]\n",
      " [ 9.21665131]\n",
      " [ 8.4243025 ]\n",
      " [ 9.44383761]\n",
      " [ 8.76254921]\n",
      " [ 9.9253502 ]\n",
      " [10.01372842]\n",
      " [ 8.37976919]\n",
      " [ 9.12137935]\n",
      " [ 9.0510571 ]\n",
      " [10.57219228]\n",
      " [10.56260035]\n",
      " [ 9.94100873]\n",
      " [ 8.48855771]\n",
      " [ 9.19285074]\n",
      " [ 8.72721061]\n",
      " [ 8.30189711]\n",
      " [ 9.78249113]\n",
      " [10.54443556]\n",
      " [10.06041199]\n",
      " [ 8.33989835]\n",
      " [10.60701832]\n",
      " [ 8.81213679]\n",
      " [10.05073144]\n",
      " [10.60378054]\n",
      " [ 9.09282648]\n",
      " [ 8.77058338]\n",
      " [ 7.49713158]\n",
      " [10.61419543]\n",
      " [ 7.94797549]\n",
      " [ 9.4223211 ]\n",
      " [ 8.53326533]\n",
      " [ 8.38591626]\n",
      " [ 9.47988883]\n",
      " [10.14689888]\n",
      " [10.36615063]\n",
      " [ 9.80772536]\n",
      " [10.27058748]\n",
      " [ 8.75797091]\n",
      " [ 9.98514892]\n",
      " [ 9.2844912 ]\n",
      " [ 9.17156737]\n",
      " [10.54796225]\n",
      " [ 8.61709066]\n",
      " [ 8.73927499]\n",
      " [10.04879406]\n",
      " [ 9.50631042]\n",
      " [ 7.95978165]\n",
      " [ 8.13769444]\n",
      " [10.56224501]\n",
      " [ 9.28306767]\n",
      " [ 9.97668998]\n",
      " [ 9.01570263]\n",
      " [ 9.83237265]\n",
      " [ 8.15610346]\n",
      " [ 8.77410909]\n",
      " [ 7.2947987 ]\n",
      " [10.60609518]\n",
      " [ 9.35841662]\n",
      " [ 7.2458517 ]\n",
      " [ 9.46515807]\n",
      " [ 7.20858732]\n",
      " [ 9.4854354 ]\n",
      " [10.32669116]\n",
      " [ 9.47604414]\n",
      " [ 7.58788403]\n",
      " [ 8.72445728]\n",
      " [ 9.43502863]\n",
      " [ 9.79519438]\n",
      " [10.61656728]\n",
      " [ 8.80401167]\n",
      " [ 8.26919586]\n",
      " [ 7.47535701]\n",
      " [ 9.29782026]\n",
      " [ 9.20217846]\n",
      " [ 8.89867782]\n",
      " [ 8.528352  ]\n",
      " [ 8.44822984]\n",
      " [ 9.90801167]\n",
      " [ 8.72089344]\n",
      " [ 8.14743573]\n",
      " [ 9.90949129]\n",
      " [ 8.92261903]\n",
      " [ 9.33099618]\n",
      " [10.61415232]\n",
      " [ 9.3707375 ]\n",
      " [ 8.35186257]\n",
      " [ 7.26096295]\n",
      " [10.51436202]\n",
      " [ 8.08222357]\n",
      " [10.35058986]\n",
      " [ 9.27627796]\n",
      " [ 9.95247533]\n",
      " [ 7.79604268]\n",
      " [ 9.1965061 ]\n",
      " [ 8.9101028 ]\n",
      " [ 9.88058969]\n",
      " [ 8.86605854]\n",
      " [ 9.37345483]\n",
      " [ 9.21002984]\n",
      " [ 9.57026425]\n",
      " [ 8.44451957]\n",
      " [ 9.50364525]\n",
      " [ 8.67010341]\n",
      " [ 8.54299295]\n",
      " [ 7.48771944]\n",
      " [ 9.49973468]\n",
      " [ 8.77577278]\n",
      " [ 9.26622103]\n",
      " [10.6023524 ]\n",
      " [ 9.82372213]\n",
      " [ 9.65537597]\n",
      " [10.57998857]\n",
      " [ 7.70969259]\n",
      " [ 8.96019618]\n",
      " [10.58570684]\n",
      " [ 8.60203193]\n",
      " [ 8.79584459]\n",
      " [10.55692882]\n",
      " [ 9.84011684]\n",
      " [ 8.64521342]\n",
      " [ 8.08132606]\n",
      " [ 9.5599222 ]\n",
      " [ 9.32825957]\n",
      " [ 8.53647362]\n",
      " [ 8.42645939]\n",
      " [ 7.69061113]\n",
      " [ 9.43050725]\n",
      " [ 7.41001594]\n",
      " [ 9.7549613 ]\n",
      " [ 9.45318399]\n",
      " [ 9.49491098]\n",
      " [ 8.86265231]\n",
      " [10.56483737]\n",
      " [ 8.62631473]\n",
      " [ 9.73990985]\n",
      " [ 8.68199134]\n",
      " [10.56114417]\n",
      " [ 9.23247053]\n",
      " [ 7.93434259]\n",
      " [ 9.52132157]\n",
      " [10.43731267]\n",
      " [ 7.44941637]\n",
      " [ 9.15257589]\n",
      " [10.20656862]\n",
      " [ 9.82404214]\n",
      " [ 9.16778897]\n",
      " [10.58575939]\n",
      " [ 9.36241045]\n",
      " [ 9.37815431]\n",
      " [ 9.25893434]\n",
      " [ 8.08419541]\n",
      " [ 9.58616466]\n",
      " [ 7.82331963]\n",
      " [ 7.99791073]\n",
      " [ 9.58051997]\n",
      " [10.60189612]\n",
      " [ 8.43157569]\n",
      " [ 8.90832134]\n",
      " [ 9.17773234]\n",
      " [ 9.04597049]\n",
      " [ 8.47515763]\n",
      " [ 7.84647893]\n",
      " [ 9.19161918]\n",
      " [ 8.21340202]\n",
      " [10.26092449]\n",
      " [ 8.59584732]\n",
      " [10.61886955]\n",
      " [ 8.05014679]\n",
      " [10.00566958]\n",
      " [ 9.3657024 ]\n",
      " [ 8.86406172]\n",
      " [ 7.4870493 ]\n",
      " [ 9.15397768]\n",
      " [ 7.70268255]\n",
      " [ 7.23741742]\n",
      " [ 9.12797266]\n",
      " [ 8.92188969]\n",
      " [ 8.89995806]\n",
      " [ 7.81286687]\n",
      " [10.5211179 ]\n",
      " [ 7.60712739]\n",
      " [ 8.91499488]\n",
      " [10.58018326]\n",
      " [ 7.46832623]\n",
      " [ 7.58631472]\n",
      " [ 9.38695233]\n",
      " [ 9.11349983]\n",
      " [10.0440159 ]\n",
      " [ 7.88451788]\n",
      " [ 8.44295691]\n",
      " [ 8.7614579 ]\n",
      " [ 9.89592184]\n",
      " [ 7.79615582]\n",
      " [ 8.9982506 ]\n",
      " [ 8.34503029]\n",
      " [ 8.56568034]\n",
      " [ 8.27768677]\n",
      " [ 9.61867392]\n",
      " [ 8.34371997]\n",
      " [ 9.9246887 ]\n",
      " [ 9.03265268]\n",
      " [ 8.57125566]\n",
      " [ 9.61117278]\n",
      " [10.58777269]\n",
      " [ 8.55117156]\n",
      " [ 7.45470384]\n",
      " [ 9.74473023]\n",
      " [ 9.25129144]\n",
      " [ 9.18481785]\n",
      " [ 9.73585426]\n",
      " [ 8.87257459]\n",
      " [ 9.33122768]\n",
      " [ 9.26514149]\n",
      " [ 8.69502854]\n",
      " [ 9.19830512]\n",
      " [ 8.78710857]\n",
      " [ 7.61297322]\n",
      " [ 9.14976933]\n",
      " [10.42092327]\n",
      " [10.64547998]\n",
      " [ 9.30528712]\n",
      " [ 8.99904301]\n",
      " [ 9.42903887]\n",
      " [ 8.61016054]\n",
      " [ 8.53201993]\n",
      " [ 9.42658008]\n",
      " [ 9.60152106]\n",
      " [ 8.03562629]\n",
      " [ 8.92040987]\n",
      " [ 7.93422847]\n",
      " [10.43071652]\n",
      " [ 9.31986807]\n",
      " [ 7.23829016]\n",
      " [10.16854415]\n",
      " [ 9.52389326]\n",
      " [ 9.13010925]\n",
      " [10.55946055]\n",
      " [ 8.24703337]\n",
      " [ 9.28522493]\n",
      " [ 9.13499175]\n",
      " [ 7.9379804 ]\n",
      " [10.57395539]\n",
      " [10.20083786]\n",
      " [ 9.5148571 ]\n",
      " [ 7.74654767]\n",
      " [ 8.74055104]\n",
      " [ 9.38111758]\n",
      " [ 8.72885872]\n",
      " [10.01839463]\n",
      " [ 8.98331616]\n",
      " [ 8.48855786]\n",
      " [ 9.15845552]\n",
      " [10.581815  ]\n",
      " [ 9.94004538]\n",
      " [ 8.70642609]\n",
      " [ 7.49957902]\n",
      " [ 8.79355363]\n",
      " [ 9.63468071]\n",
      " [ 8.53654176]\n",
      " [10.56105935]\n",
      " [ 8.84699461]\n",
      " [ 7.7099683 ]\n",
      " [ 8.1608383 ]\n",
      " [ 9.26666815]\n",
      " [ 9.01679262]\n",
      " [ 8.12294713]\n",
      " [ 8.33038127]\n",
      " [ 8.54357922]\n",
      " [ 8.4095453 ]\n",
      " [ 9.6756933 ]\n",
      " [ 9.56181578]\n",
      " [ 9.21184193]\n",
      " [ 7.98710966]\n",
      " [ 9.05183081]\n",
      " [ 9.09617652]\n",
      " [10.52265161]\n",
      " [ 8.80955344]\n",
      " [ 8.30008311]\n",
      " [ 9.35982732]\n",
      " [ 9.74898465]\n",
      " [ 8.56498471]\n",
      " [ 9.27397998]\n",
      " [ 8.13038411]\n",
      " [ 8.52789832]\n",
      " [ 8.93694973]\n",
      " [ 9.90289775]\n",
      " [ 8.70109066]\n",
      " [ 8.47349028]\n",
      " [ 9.58857378]\n",
      " [ 7.85774874]\n",
      " [ 9.51370971]\n",
      " [10.56023396]\n",
      " [ 7.76905247]\n",
      " [ 9.40762136]\n",
      " [ 9.08434459]\n",
      " [ 8.86370551]\n",
      " [ 9.50668587]\n",
      " [ 9.08415805]\n",
      " [ 9.4020262 ]\n",
      " [ 9.08425635]\n",
      " [10.21983453]\n",
      " [ 9.76957421]\n",
      " [10.09917409]\n",
      " [ 7.36923031]\n",
      " [ 9.00695568]]\n"
     ]
    }
   ],
   "source": [
    "y_pred=model1.predict(x_test)\n",
    "print(y_pred)"
   ]
  },
  {
   "cell_type": "markdown",
   "metadata": {},
   "source": [
    "All the y_pred and y_test values are in log function. <br>\n",
    "so take antilog of predicted values as well as y_test <br>"
   ]
  },
  {
   "cell_type": "code",
   "execution_count": 89,
   "metadata": {},
   "outputs": [],
   "source": [
    "Predicted = np.exp(y_pred)"
   ]
  },
  {
   "cell_type": "code",
   "execution_count": 90,
   "metadata": {},
   "outputs": [
    {
     "data": {
      "text/plain": [
       "array([[ 7136.26026642],\n",
       "       [ 4940.46327425],\n",
       "       [12764.42681424],\n",
       "       [25965.87965724],\n",
       "       [ 3523.57001009],\n",
       "       [ 7168.08483841],\n",
       "       [ 9805.72641581],\n",
       "       [17364.44711898],\n",
       "       [ 8054.46967238],\n",
       "       [21466.97113526],\n",
       "       [ 2979.21575888],\n",
       "       [ 3221.40372923],\n",
       "       [ 6409.39292459],\n",
       "       [ 8552.16517935],\n",
       "       [28556.37212676],\n",
       "       [13024.04304659],\n",
       "       [ 3183.2787912 ],\n",
       "       [16492.19683086],\n",
       "       [10950.1059875 ],\n",
       "       [22099.97275348],\n",
       "       [39606.13901714],\n",
       "       [ 2185.82297364],\n",
       "       [ 2194.19945753],\n",
       "       [ 6290.02121436],\n",
       "       [ 4183.57684766],\n",
       "       [12757.74837996],\n",
       "       [ 7702.46157335],\n",
       "       [12790.80267848],\n",
       "       [ 3908.38897587],\n",
       "       [22623.05096293],\n",
       "       [ 1432.47216919],\n",
       "       [39980.19404098],\n",
       "       [18027.1253501 ],\n",
       "       [ 8040.0427508 ],\n",
       "       [ 3424.80752753],\n",
       "       [ 5831.62956606],\n",
       "       [13470.74684529],\n",
       "       [ 8967.64041639],\n",
       "       [26748.20004616],\n",
       "       [ 7548.42651228],\n",
       "       [14400.94347604],\n",
       "       [32850.92070887],\n",
       "       [ 4929.3539222 ],\n",
       "       [12637.2817357 ],\n",
       "       [ 1416.61352547],\n",
       "       [ 6807.82288406],\n",
       "       [ 8262.5075202 ],\n",
       "       [40191.48440291],\n",
       "       [12165.19944628],\n",
       "       [11312.89122299],\n",
       "       [38972.41300297],\n",
       "       [ 3081.32478677],\n",
       "       [ 7278.6764991 ],\n",
       "       [14301.83277177],\n",
       "       [28833.82873702],\n",
       "       [12629.59288778],\n",
       "       [10883.00895311],\n",
       "       [ 5271.32011786],\n",
       "       [ 6031.35765601],\n",
       "       [40900.42331375],\n",
       "       [ 1793.58918924],\n",
       "       [26034.01427179],\n",
       "       [33329.36074894],\n",
       "       [ 1781.66806237],\n",
       "       [18004.48010968],\n",
       "       [ 7078.98851232],\n",
       "       [18024.17087994],\n",
       "       [ 7079.92636621],\n",
       "       [ 7424.41296341],\n",
       "       [27678.54142403],\n",
       "       [ 6921.455     ],\n",
       "       [ 1860.10893543],\n",
       "       [ 6923.74149359],\n",
       "       [ 6822.37644156],\n",
       "       [ 8063.47729739],\n",
       "       [10552.42241383],\n",
       "       [ 4626.93759008],\n",
       "       [ 6254.70652478],\n",
       "       [ 1718.53659255],\n",
       "       [10342.14058444],\n",
       "       [10344.98864272],\n",
       "       [ 9388.02658853],\n",
       "       [18974.82071212],\n",
       "       [ 3418.33070517],\n",
       "       [26757.9025695 ],\n",
       "       [ 3308.4284522 ],\n",
       "       [ 1387.66925855],\n",
       "       [ 1981.55175379],\n",
       "       [ 5468.80200553],\n",
       "       [10127.78978861],\n",
       "       [23575.09002747],\n",
       "       [38738.5647797 ],\n",
       "       [ 9411.90846493],\n",
       "       [41134.05544191],\n",
       "       [13562.6744432 ],\n",
       "       [ 3931.05901392],\n",
       "       [ 6090.3566847 ],\n",
       "       [10063.30897158],\n",
       "       [ 4556.46554283],\n",
       "       [12630.09343209],\n",
       "       [ 6390.38122848],\n",
       "       [20442.06778257],\n",
       "       [22330.93950371],\n",
       "       [ 4358.00293462],\n",
       "       [ 9148.81236936],\n",
       "       [ 8527.54759695],\n",
       "       [39034.15367013],\n",
       "       [38661.53099059],\n",
       "       [20764.67965688],\n",
       "       [ 4858.85313474],\n",
       "       [ 9826.62425686],\n",
       "       [ 6168.49772564],\n",
       "       [ 4031.51335591],\n",
       "       [17720.74266842],\n",
       "       [37965.59234233],\n",
       "       [23398.14424271],\n",
       "       [ 4187.6640484 ],\n",
       "       [40417.50743829],\n",
       "       [ 6715.25303596],\n",
       "       [23172.73000118],\n",
       "       [40286.85597385],\n",
       "       [ 8891.28157228],\n",
       "       [ 6441.92948471],\n",
       "       [ 1802.86361597],\n",
       "       [40708.63185144],\n",
       "       [ 2829.84011616],\n",
       "       [12361.24057517],\n",
       "       [ 5081.00994069],\n",
       "       [ 4384.8744067 ],\n",
       "       [13093.73081058],\n",
       "       [25511.86410948],\n",
       "       [31765.96227292],\n",
       "       [18173.60156033],\n",
       "       [28870.8431595 ],\n",
       "       [ 6361.19106446],\n",
       "       [21701.76611077],\n",
       "       [10769.69229891],\n",
       "       [ 9619.69048082],\n",
       "       [38099.72138544],\n",
       "       [ 5525.28806255],\n",
       "       [ 6243.36753969],\n",
       "       [23127.87923411],\n",
       "       [13444.298923  ],\n",
       "       [ 2863.44764804],\n",
       "       [ 3421.02140281],\n",
       "       [38647.79535082],\n",
       "       [10754.37220772],\n",
       "       [21518.96629571],\n",
       "       [ 8231.3279227 ],\n",
       "       [18627.0974136 ],\n",
       "       [ 3484.58229928],\n",
       "       [ 6464.68192325],\n",
       "       [ 1472.62042624],\n",
       "       [40380.21341818],\n",
       "       [11596.01307588],\n",
       "       [ 1402.27570134],\n",
       "       [12902.26383252],\n",
       "       [ 1350.9824073 ],\n",
       "       [13166.55788865],\n",
       "       [30536.90291766],\n",
       "       [13043.48606423],\n",
       "       [ 1974.13189255],\n",
       "       [ 6151.53720303],\n",
       "       [12519.32370969],\n",
       "       [17947.28945214],\n",
       "       [40805.30123874],\n",
       "       [ 6660.91185327],\n",
       "       [ 3901.81013122],\n",
       "       [ 1764.0313504 ],\n",
       "       [10914.20317863],\n",
       "       [ 9918.71302847],\n",
       "       [ 7322.28573867],\n",
       "       [ 5056.10650294],\n",
       "       [ 4666.80444574],\n",
       "       [20090.68738908],\n",
       "       [ 6129.65311542],\n",
       "       [ 3454.50938754],\n",
       "       [20120.43595768],\n",
       "       [ 7499.70550059],\n",
       "       [11282.36511039],\n",
       "       [40706.87685947],\n",
       "       [11739.76996955],\n",
       "       [ 4238.06711129],\n",
       "       [ 1423.626759  ],\n",
       "       [36840.82989955],\n",
       "       [ 3236.421642  ],\n",
       "       [31275.48549237],\n",
       "       [10681.60048456],\n",
       "       [21004.15029746],\n",
       "       [ 2430.96283035],\n",
       "       [ 9862.60977167],\n",
       "       [ 7406.4224692 ],\n",
       "       [19547.2461235 ],\n",
       "       [ 7087.29158585],\n",
       "       [11771.71420189],\n",
       "       [ 9996.89519707],\n",
       "       [14332.20308404],\n",
       "       [ 4649.52140554],\n",
       "       [13408.51526915],\n",
       "       [ 5826.10181418],\n",
       "       [ 5130.67727789],\n",
       "       [ 1785.97441873],\n",
       "       [13356.18273199],\n",
       "       [ 6475.44608314],\n",
       "       [10574.71473362],\n",
       "       [40229.36190662],\n",
       "       [18466.65833522],\n",
       "       [15605.45744916],\n",
       "       [39339.66483157],\n",
       "       [ 2229.85667322],\n",
       "       [ 7786.8849246 ],\n",
       "       [39565.26393098],\n",
       "       [ 5442.70756455],\n",
       "       [ 6606.73318368],\n",
       "       [38442.8813788 ],\n",
       "       [18771.90915824],\n",
       "       [ 5682.87994965],\n",
       "       [ 3233.51823171],\n",
       "       [14184.74254324],\n",
       "       [11251.53190501],\n",
       "       [ 5097.33749845],\n",
       "       [ 4566.30393528],\n",
       "       [ 2187.71112129],\n",
       "       [12462.8468728 ],\n",
       "       [ 1652.45269341],\n",
       "       [17239.5475253 ],\n",
       "       [12748.69246683],\n",
       "       [13291.91156061],\n",
       "       [ 7063.19166732],\n",
       "       [38748.11446338],\n",
       "       [ 5576.48944839],\n",
       "       [16982.01033701],\n",
       "       [ 5895.77539537],\n",
       "       [38605.27355677],\n",
       "       [10223.76849937],\n",
       "       [ 2791.52295767],\n",
       "       [13647.6356325 ],\n",
       "       [34108.86741838],\n",
       "       [ 1718.85966825],\n",
       "       [ 9438.72222662],\n",
       "       [27080.48452765],\n",
       "       [18472.56876313],\n",
       "       [ 9583.41203504],\n",
       "       [39567.34302315],\n",
       "       [11642.41827145],\n",
       "       [11827.16529917],\n",
       "       [10497.94014459],\n",
       "       [ 3242.80966578],\n",
       "       [14561.91238044],\n",
       "       [ 2498.18471437],\n",
       "       [ 2974.73646819],\n",
       "       [14479.94649946],\n",
       "       [40211.01002286],\n",
       "       [ 4589.72636903],\n",
       "       [ 7393.2399243 ],\n",
       "       [ 9679.1787643 ],\n",
       "       [ 8484.28147334],\n",
       "       [ 4794.17839138],\n",
       "       [ 2556.71607732],\n",
       "       [ 9814.52962929],\n",
       "       [ 3690.0748358 ],\n",
       "       [28593.20824044],\n",
       "       [ 5409.15041483],\n",
       "       [40899.35428719],\n",
       "       [ 3134.25500111],\n",
       "       [22151.70123912],\n",
       "       [11680.8076295 ],\n",
       "       [ 7073.15365508],\n",
       "       [ 1784.77797333],\n",
       "       [ 9451.96260883],\n",
       "       [ 2214.27993847],\n",
       "       [ 1390.49826079],\n",
       "       [ 9209.33258225],\n",
       "       [ 7494.23765326],\n",
       "       [ 7331.6660516 ],\n",
       "       [ 2472.20777558],\n",
       "       [37090.56499899],\n",
       "       [ 2012.48870064],\n",
       "       [ 7442.74403174],\n",
       "       [39347.32463228],\n",
       "       [ 1751.67233881],\n",
       "       [ 1971.03629738],\n",
       "       [11931.67998848],\n",
       "       [ 9077.00731637],\n",
       "       [23017.63404444],\n",
       "       [ 2655.84428381],\n",
       "       [ 4642.26145838],\n",
       "       [ 6383.41117877],\n",
       "       [19849.25665177],\n",
       "       [ 2431.2378669 ],\n",
       "       [ 8088.9207972 ],\n",
       "       [ 4209.21011178],\n",
       "       [ 5248.40939963],\n",
       "       [ 3935.08107995],\n",
       "       [15043.08836462],\n",
       "       [ 4203.69830356],\n",
       "       [20428.54982463],\n",
       "       [ 8372.03851454],\n",
       "       [ 5277.75270168],\n",
       "       [14930.6701607 ],\n",
       "       [39647.08425658],\n",
       "       [ 5172.81111461],\n",
       "       [ 1727.97216148],\n",
       "       [17064.06768543],\n",
       "       [10418.01124444],\n",
       "       [ 9748.0042904 ],\n",
       "       [16913.27770477],\n",
       "       [ 7133.62349434],\n",
       "       [11284.97728492],\n",
       "       [10563.30508044],\n",
       "       [ 5973.1430589 ],\n",
       "       [ 9880.36881068],\n",
       "       [ 6549.26801183],\n",
       "       [ 2024.28780362],\n",
       "       [ 9412.26900263],\n",
       "       [33554.39969655],\n",
       "       [42002.31334684],\n",
       "       [10996.00294102],\n",
       "       [ 8095.3330853 ],\n",
       "       [12444.5601763 ],\n",
       "       [ 5487.12953416],\n",
       "       [ 5074.68599217],\n",
       "       [12413.99912484],\n",
       "       [14787.25677536],\n",
       "       [ 3089.07289081],\n",
       "       [ 7483.15570155],\n",
       "       [ 2791.20440007],\n",
       "       [33884.62062641],\n",
       "       [11157.50972291],\n",
       "       [ 1391.71233285],\n",
       "       [26070.09494812],\n",
       "       [13682.77820094],\n",
       "       [ 9229.03015714],\n",
       "       [38540.33172197],\n",
       "       [ 3816.28750289],\n",
       "       [10777.59724907],\n",
       "       [ 9274.20113136],\n",
       "       [ 2801.69648671],\n",
       "       [39103.03607302],\n",
       "       [26925.73668716],\n",
       "       [13559.69537042],\n",
       "       [ 2313.57139482],\n",
       "       [ 6251.33947133],\n",
       "       [11862.26436528],\n",
       "       [ 6178.67247525],\n",
       "       [22435.38387017],\n",
       "       [ 7969.01483619],\n",
       "       [ 4858.85387702],\n",
       "       [ 9494.38182228],\n",
       "       [39411.58137216],\n",
       "       [20744.68568842],\n",
       "       [ 6041.61170609],\n",
       "       [ 1807.28141635],\n",
       "       [ 6591.61477772],\n",
       "       [15285.8174654 ],\n",
       "       [ 5097.6848278 ],\n",
       "       [38601.9993784 ],\n",
       "       [ 6953.45965477],\n",
       "       [ 2230.47155917],\n",
       "       [ 3501.1203513 ],\n",
       "       [10579.44397528],\n",
       "       [ 8240.30486207],\n",
       "       [ 3370.94070738],\n",
       "       [ 4147.99876887],\n",
       "       [ 5133.68608872],\n",
       "       [ 4489.71855772],\n",
       "       [15925.76151907],\n",
       "       [14211.62796026],\n",
       "       [10015.02682944],\n",
       "       [ 2942.77902656],\n",
       "       [ 8534.14804754],\n",
       "       [ 8921.11765372],\n",
       "       [37147.49480061],\n",
       "       [ 6697.92756325],\n",
       "       [ 4024.2068277 ],\n",
       "       [11612.38318893],\n",
       "       [17136.82017647],\n",
       "       [ 5244.75971539],\n",
       "       [10657.08257413],\n",
       "       [ 3396.10380514],\n",
       "       [ 5053.81316231],\n",
       "       [ 7607.9552904 ],\n",
       "       [19988.20737469],\n",
       "       [ 6009.4629349 ],\n",
       "       [ 4786.19148188],\n",
       "       [14597.03616048],\n",
       "       [ 2585.69275963],\n",
       "       [13544.14607703],\n",
       "       [38570.15084855],\n",
       "       [ 2366.22815542],\n",
       "       [12180.86262707],\n",
       "       [ 8816.18569663],\n",
       "       [ 7070.63457104],\n",
       "       [13449.34751956],\n",
       "       [ 8814.54119987],\n",
       "       [12112.89900071],\n",
       "       [ 8815.40777634],\n",
       "       [27442.12538541],\n",
       "       [17493.31711971],\n",
       "       [24322.91266262],\n",
       "       [ 1586.412262  ],\n",
       "       [ 8159.64284579]])"
      ]
     },
     "execution_count": 90,
     "metadata": {},
     "output_type": "execute_result"
    }
   ],
   "source": [
    "Predicted"
   ]
  },
  {
   "cell_type": "code",
   "execution_count": 91,
   "metadata": {},
   "outputs": [],
   "source": [
    "Actual = np.exp(y_test)"
   ]
  },
  {
   "cell_type": "code",
   "execution_count": 92,
   "metadata": {},
   "outputs": [
    {
     "data": {
      "text/html": [
       "<div>\n",
       "<style scoped>\n",
       "    .dataframe tbody tr th:only-of-type {\n",
       "        vertical-align: middle;\n",
       "    }\n",
       "\n",
       "    .dataframe tbody tr th {\n",
       "        vertical-align: top;\n",
       "    }\n",
       "\n",
       "    .dataframe thead th {\n",
       "        text-align: right;\n",
       "    }\n",
       "</style>\n",
       "<table border=\"1\" class=\"dataframe\">\n",
       "  <thead>\n",
       "    <tr style=\"text-align: right;\">\n",
       "      <th></th>\n",
       "      <th>charges</th>\n",
       "    </tr>\n",
       "  </thead>\n",
       "  <tbody>\n",
       "    <tr>\n",
       "      <th>7</th>\n",
       "      <td>7281.50560</td>\n",
       "    </tr>\n",
       "    <tr>\n",
       "      <th>999</th>\n",
       "      <td>5267.81815</td>\n",
       "    </tr>\n",
       "    <tr>\n",
       "      <th>1209</th>\n",
       "      <td>12347.17200</td>\n",
       "    </tr>\n",
       "    <tr>\n",
       "      <th>491</th>\n",
       "      <td>24513.09126</td>\n",
       "    </tr>\n",
       "    <tr>\n",
       "      <th>625</th>\n",
       "      <td>3736.46470</td>\n",
       "    </tr>\n",
       "  </tbody>\n",
       "</table>\n",
       "</div>"
      ],
      "text/plain": [
       "          charges\n",
       "7      7281.50560\n",
       "999    5267.81815\n",
       "1209  12347.17200\n",
       "491   24513.09126\n",
       "625    3736.46470"
      ]
     },
     "execution_count": 92,
     "metadata": {},
     "output_type": "execute_result"
    }
   ],
   "source": [
    "Actual.head()"
   ]
  },
  {
   "cell_type": "markdown",
   "metadata": {},
   "source": [
    "# Create the final data frame with predicted output"
   ]
  },
  {
   "cell_type": "code",
   "execution_count": 36,
   "metadata": {},
   "outputs": [],
   "source": [
    "final_df =pd.DataFrame()\n",
    "final_df= x_test\n",
    "\n",
    "final_df['Actual ']=Actual\n",
    "final_df['Predicted']=Predicted\n"
   ]
  },
  {
   "cell_type": "code",
   "execution_count": 37,
   "metadata": {},
   "outputs": [
    {
     "data": {
      "text/html": [
       "<div>\n",
       "<style scoped>\n",
       "    .dataframe tbody tr th:only-of-type {\n",
       "        vertical-align: middle;\n",
       "    }\n",
       "\n",
       "    .dataframe tbody tr th {\n",
       "        vertical-align: top;\n",
       "    }\n",
       "\n",
       "    .dataframe thead th {\n",
       "        text-align: right;\n",
       "    }\n",
       "</style>\n",
       "<table border=\"1\" class=\"dataframe\">\n",
       "  <thead>\n",
       "    <tr style=\"text-align: right;\">\n",
       "      <th></th>\n",
       "      <th>age</th>\n",
       "      <th>bmi</th>\n",
       "      <th>children</th>\n",
       "      <th>Month</th>\n",
       "      <th>sex_male</th>\n",
       "      <th>smoker_yes</th>\n",
       "      <th>Actual</th>\n",
       "      <th>Predicted</th>\n",
       "    </tr>\n",
       "  </thead>\n",
       "  <tbody>\n",
       "    <tr>\n",
       "      <th>7</th>\n",
       "      <td>37</td>\n",
       "      <td>27.740</td>\n",
       "      <td>3</td>\n",
       "      <td>7.281506</td>\n",
       "      <td>0</td>\n",
       "      <td>0</td>\n",
       "      <td>7281.50560</td>\n",
       "      <td>6738.594560</td>\n",
       "    </tr>\n",
       "    <tr>\n",
       "      <th>999</th>\n",
       "      <td>36</td>\n",
       "      <td>26.885</td>\n",
       "      <td>0</td>\n",
       "      <td>5.267818</td>\n",
       "      <td>0</td>\n",
       "      <td>0</td>\n",
       "      <td>5267.81815</td>\n",
       "      <td>4739.848878</td>\n",
       "    </tr>\n",
       "    <tr>\n",
       "      <th>1209</th>\n",
       "      <td>59</td>\n",
       "      <td>37.100</td>\n",
       "      <td>1</td>\n",
       "      <td>12.347172</td>\n",
       "      <td>1</td>\n",
       "      <td>0</td>\n",
       "      <td>12347.17200</td>\n",
       "      <td>11621.803952</td>\n",
       "    </tr>\n",
       "    <tr>\n",
       "      <th>491</th>\n",
       "      <td>61</td>\n",
       "      <td>25.080</td>\n",
       "      <td>0</td>\n",
       "      <td>24.513091</td>\n",
       "      <td>0</td>\n",
       "      <td>0</td>\n",
       "      <td>24513.09126</td>\n",
       "      <td>29966.340430</td>\n",
       "    </tr>\n",
       "    <tr>\n",
       "      <th>625</th>\n",
       "      <td>29</td>\n",
       "      <td>26.030</td>\n",
       "      <td>0</td>\n",
       "      <td>3.736465</td>\n",
       "      <td>0</td>\n",
       "      <td>0</td>\n",
       "      <td>3736.46470</td>\n",
       "      <td>3749.203898</td>\n",
       "    </tr>\n",
       "  </tbody>\n",
       "</table>\n",
       "</div>"
      ],
      "text/plain": [
       "      age     bmi  children      Month  sex_male  smoker_yes      Actual   \\\n",
       "7      37  27.740         3   7.281506         0           0   7281.50560   \n",
       "999    36  26.885         0   5.267818         0           0   5267.81815   \n",
       "1209   59  37.100         1  12.347172         1           0  12347.17200   \n",
       "491    61  25.080         0  24.513091         0           0  24513.09126   \n",
       "625    29  26.030         0   3.736465         0           0   3736.46470   \n",
       "\n",
       "         Predicted  \n",
       "7      6738.594560  \n",
       "999    4739.848878  \n",
       "1209  11621.803952  \n",
       "491   29966.340430  \n",
       "625    3749.203898  "
      ]
     },
     "execution_count": 37,
     "metadata": {},
     "output_type": "execute_result"
    }
   ],
   "source": [
    "final_df.head()"
   ]
  },
  {
   "cell_type": "markdown",
   "metadata": {},
   "source": [
    "# R2 SCORE , RMSE"
   ]
  },
  {
   "cell_type": "code",
   "execution_count": 38,
   "metadata": {},
   "outputs": [],
   "source": [
    "# IN LOG SCALE"
   ]
  },
  {
   "cell_type": "code",
   "execution_count": null,
   "metadata": {},
   "outputs": [],
   "source": [
    "from sklearn.metrics import r2_score, mean_squared_error\n",
    "r2=r2_score(y_test,y_pred)\n",
    "print('R2 SCORE: ',r2)\n",
    "\n",
    "rmse=np.sqrt(mean_squared_error(y_test,y_pred))\n",
    "print('RMSE :', rmse)\n",
    "print()\n",
    "print()\n",
    "print(min(data['charges']),'--------',rmse,'--------',max(data['charges']))"
   ]
  },
  {
   "cell_type": "code",
   "execution_count": 39,
   "metadata": {},
   "outputs": [
    {
     "name": "stdout",
     "output_type": "stream",
     "text": [
      "R2 SCORE:  0.9190853186205206\n",
      "RMSE : 0.2517972451806441\n",
      "\n",
      "\n",
      "7.02275569117477 -------- 0.2517972451806441 -------- 11.063044851063491\n"
     ]
    }
   ],
   "source": [
    "from sklearn.metrics import r2_score, mean_squared_error\n",
    "r2=r2_score(y_test,y_pred)\n",
    "print('R2 SCORE: ',r2)\n",
    "\n",
    "rmse=np.sqrt(mean_squared_error(y_test,y_pred))\n",
    "print('RMSE :', rmse)\n",
    "print()\n",
    "print()\n",
    "print(min(data['charges']),'--------',rmse,'--------',max(data['charges']))"
   ]
  },
  {
   "cell_type": "code",
   "execution_count": 40,
   "metadata": {},
   "outputs": [],
   "source": [
    "#IN ACTUAL SCALE"
   ]
  },
  {
   "cell_type": "code",
   "execution_count": 41,
   "metadata": {},
   "outputs": [
    {
     "name": "stdout",
     "output_type": "stream",
     "text": [
      "R2 SCORE:  0.8329545128693676\n",
      "RMSE : 4657.485710693436\n",
      "\n",
      "\n",
      "1121.8739 -------- 4657.485710693436 -------- 63770.42801\n"
     ]
    }
   ],
   "source": [
    "from sklearn.metrics import r2_score, mean_squared_error\n",
    "r2=r2_score(Actual,Predicted)\n",
    "print('R2 SCORE: ',r2)\n",
    "\n",
    "rmse=np.sqrt(mean_squared_error(Actual,Predicted))\n",
    "print('RMSE :', rmse)\n",
    "print()\n",
    "print()\n",
    "print(min(data_1['charges']),'--------',rmse,'--------',max(data_1['charges']))"
   ]
  },
  {
   "cell_type": "markdown",
   "metadata": {},
   "source": [
    "# Using statsmodel lib"
   ]
  },
  {
   "cell_type": "code",
   "execution_count": 42,
   "metadata": {},
   "outputs": [],
   "source": [
    "# LOG SCALE"
   ]
  },
  {
   "cell_type": "code",
   "execution_count": 43,
   "metadata": {},
   "outputs": [],
   "source": [
    "import statsmodels.formula.api as sm\n",
    "\n",
    "# create a fitted model with all the features\n",
    "\n",
    "model2 = sm.ols(formula='charges~age+bmi+children+Month+sex_male+smoker_yes',data=data).fit()"
   ]
  },
  {
   "cell_type": "code",
   "execution_count": 44,
   "metadata": {},
   "outputs": [
    {
     "name": "stdout",
     "output_type": "stream",
     "text": [
      "Intercept     7.544632\n",
      "age           0.017856\n",
      "bmi          -0.004043\n",
      "children      0.069497\n",
      "Month         0.073444\n",
      "sex_male     -0.062954\n",
      "smoker_yes    0.083505\n",
      "dtype: float64\n",
      "[7.54338877] [[ 0.01838471 -0.00439862  0.06439795  0.0715247  -0.05178526  0.12606254]]\n"
     ]
    }
   ],
   "source": [
    "print(model2.params)\n",
    "print(model1.intercept_ , model1.coef_)"
   ]
  },
  {
   "cell_type": "markdown",
   "metadata": {},
   "source": [
    "Both the intercept and coef for model1 and model2 are almost equal "
   ]
  },
  {
   "cell_type": "code",
   "execution_count": 45,
   "metadata": {},
   "outputs": [
    {
     "name": "stdout",
     "output_type": "stream",
     "text": [
      "                            OLS Regression Results                            \n",
      "==============================================================================\n",
      "Dep. Variable:                charges   R-squared:                       0.931\n",
      "Model:                            OLS   Adj. R-squared:                  0.931\n",
      "Method:                 Least Squares   F-statistic:                     2986.\n",
      "Date:                Tue, 30 Apr 2019   Prob (F-statistic):               0.00\n",
      "Time:                        14:33:26   Log-Likelihood:                 1.3818\n",
      "No. Observations:                1338   AIC:                             11.24\n",
      "Df Residuals:                    1331   BIC:                             47.63\n",
      "Df Model:                           6                                         \n",
      "Covariance Type:            nonrobust                                         \n",
      "==============================================================================\n",
      "                 coef    std err          t      P>|t|      [0.025      0.975]\n",
      "------------------------------------------------------------------------------\n",
      "Intercept      7.5446      0.039    192.827      0.000       7.468       7.621\n",
      "age            0.0179      0.001     31.848      0.000       0.017       0.019\n",
      "bmi           -0.0040      0.001     -3.590      0.000      -0.006      -0.002\n",
      "children       0.0695      0.006     12.559      0.000       0.059       0.080\n",
      "Month          0.0734      0.001     56.700      0.000       0.071       0.076\n",
      "sex_male      -0.0630      0.013     -4.729      0.000      -0.089      -0.037\n",
      "smoker_yes     0.0835      0.031      2.723      0.007       0.023       0.144\n",
      "==============================================================================\n",
      "Omnibus:                       43.296   Durbin-Watson:                   1.982\n",
      "Prob(Omnibus):                  0.000   Jarque-Bera (JB):              103.389\n",
      "Skew:                          -0.107   Prob(JB):                     3.54e-23\n",
      "Kurtosis:                       4.345   Cond. No.                         325.\n",
      "==============================================================================\n",
      "\n",
      "Warnings:\n",
      "[1] Standard Errors assume that the covariance matrix of the errors is correctly specified.\n"
     ]
    }
   ],
   "source": [
    "print(model2.summary())"
   ]
  },
  {
   "cell_type": "code",
   "execution_count": 46,
   "metadata": {},
   "outputs": [],
   "source": [
    "# ACTUAL SCALE "
   ]
  },
  {
   "cell_type": "code",
   "execution_count": 47,
   "metadata": {},
   "outputs": [
    {
     "data": {
      "text/html": [
       "<div>\n",
       "<style scoped>\n",
       "    .dataframe tbody tr th:only-of-type {\n",
       "        vertical-align: middle;\n",
       "    }\n",
       "\n",
       "    .dataframe tbody tr th {\n",
       "        vertical-align: top;\n",
       "    }\n",
       "\n",
       "    .dataframe thead th {\n",
       "        text-align: right;\n",
       "    }\n",
       "</style>\n",
       "<table border=\"1\" class=\"dataframe\">\n",
       "  <thead>\n",
       "    <tr style=\"text-align: right;\">\n",
       "      <th></th>\n",
       "      <th>age</th>\n",
       "      <th>sex</th>\n",
       "      <th>bmi</th>\n",
       "      <th>children</th>\n",
       "      <th>smoker</th>\n",
       "      <th>region</th>\n",
       "      <th>charges</th>\n",
       "      <th>Month</th>\n",
       "    </tr>\n",
       "  </thead>\n",
       "  <tbody>\n",
       "    <tr>\n",
       "      <th>0</th>\n",
       "      <td>19</td>\n",
       "      <td>female</td>\n",
       "      <td>27.900</td>\n",
       "      <td>0</td>\n",
       "      <td>yes</td>\n",
       "      <td>South</td>\n",
       "      <td>16884.92400</td>\n",
       "      <td>16.884924</td>\n",
       "    </tr>\n",
       "    <tr>\n",
       "      <th>1</th>\n",
       "      <td>18</td>\n",
       "      <td>male</td>\n",
       "      <td>33.770</td>\n",
       "      <td>1</td>\n",
       "      <td>no</td>\n",
       "      <td>South</td>\n",
       "      <td>1725.55230</td>\n",
       "      <td>1.725552</td>\n",
       "    </tr>\n",
       "    <tr>\n",
       "      <th>2</th>\n",
       "      <td>28</td>\n",
       "      <td>male</td>\n",
       "      <td>33.000</td>\n",
       "      <td>3</td>\n",
       "      <td>no</td>\n",
       "      <td>South</td>\n",
       "      <td>4449.46200</td>\n",
       "      <td>4.449462</td>\n",
       "    </tr>\n",
       "    <tr>\n",
       "      <th>3</th>\n",
       "      <td>33</td>\n",
       "      <td>male</td>\n",
       "      <td>22.705</td>\n",
       "      <td>0</td>\n",
       "      <td>no</td>\n",
       "      <td>North</td>\n",
       "      <td>21984.47061</td>\n",
       "      <td>21.984471</td>\n",
       "    </tr>\n",
       "    <tr>\n",
       "      <th>4</th>\n",
       "      <td>32</td>\n",
       "      <td>male</td>\n",
       "      <td>28.880</td>\n",
       "      <td>0</td>\n",
       "      <td>no</td>\n",
       "      <td>North</td>\n",
       "      <td>3866.85520</td>\n",
       "      <td>3.866855</td>\n",
       "    </tr>\n",
       "  </tbody>\n",
       "</table>\n",
       "</div>"
      ],
      "text/plain": [
       "   age     sex     bmi  children smoker region      charges      Month\n",
       "0   19  female  27.900         0    yes  South  16884.92400  16.884924\n",
       "1   18    male  33.770         1     no  South   1725.55230   1.725552\n",
       "2   28    male  33.000         3     no  South   4449.46200   4.449462\n",
       "3   33    male  22.705         0     no  North  21984.47061  21.984471\n",
       "4   32    male  28.880         0     no  North   3866.85520   3.866855"
      ]
     },
     "execution_count": 47,
     "metadata": {},
     "output_type": "execute_result"
    }
   ],
   "source": [
    "data_1.head()"
   ]
  },
  {
   "cell_type": "code",
   "execution_count": 48,
   "metadata": {},
   "outputs": [],
   "source": [
    "\n",
    "\n",
    "model3 = sm.ols(formula='charges~age+bmi+children+Month+sex+smoker',data=data_1).fit()"
   ]
  },
  {
   "cell_type": "code",
   "execution_count": 49,
   "metadata": {},
   "outputs": [
    {
     "name": "stdout",
     "output_type": "stream",
     "text": [
      "Intercept     7.544632\n",
      "age           0.017856\n",
      "bmi          -0.004043\n",
      "children      0.069497\n",
      "Month         0.073444\n",
      "sex_male     -0.062954\n",
      "smoker_yes    0.083505\n",
      "dtype: float64\n",
      "\n",
      "Intercept       -4102.077030\n",
      "sex[T.male]        51.331665\n",
      "smoker[T.yes]    1925.547411\n",
      "age                 6.020193\n",
      "bmi                99.141537\n",
      "children           -6.777859\n",
      "Month            1096.498215\n",
      "dtype: float64\n"
     ]
    }
   ],
   "source": [
    "print(model2.params)\n",
    "\n",
    "print()\n",
    "\n",
    "print(model3.params)\n"
   ]
  },
  {
   "cell_type": "code",
   "execution_count": 50,
   "metadata": {},
   "outputs": [
    {
     "name": "stdout",
     "output_type": "stream",
     "text": [
      "                            OLS Regression Results                            \n",
      "==============================================================================\n",
      "Dep. Variable:                charges   R-squared:                       0.964\n",
      "Model:                            OLS   Adj. R-squared:                  0.964\n",
      "Method:                 Least Squares   F-statistic:                     6007.\n",
      "Date:                Tue, 30 Apr 2019   Prob (F-statistic):               0.00\n",
      "Time:                        14:33:26   Log-Likelihood:                -12247.\n",
      "No. Observations:                1338   AIC:                         2.451e+04\n",
      "Df Residuals:                    1331   BIC:                         2.454e+04\n",
      "Df Model:                           6                                         \n",
      "Covariance Type:            nonrobust                                         \n",
      "=================================================================================\n",
      "                    coef    std err          t      P>|t|      [0.025      0.975]\n",
      "---------------------------------------------------------------------------------\n",
      "Intercept     -4102.0770    369.786    -11.093      0.000   -4827.504   -3376.650\n",
      "sex[T.male]      51.3317    125.815      0.408      0.683    -195.486     298.150\n",
      "smoker[T.yes]  1925.5474    289.836      6.644      0.000    1356.961    2494.133\n",
      "age               6.0202      5.299      1.136      0.256      -4.375      16.415\n",
      "bmi              99.1415     10.643      9.315      0.000      78.263     120.020\n",
      "children         -6.7779     52.299     -0.130      0.897    -109.375      95.819\n",
      "Month          1096.4982     12.242     89.569      0.000    1072.483    1120.514\n",
      "==============================================================================\n",
      "Omnibus:                     1149.609   Durbin-Watson:                   1.887\n",
      "Prob(Omnibus):                  0.000   Jarque-Bera (JB):            49372.295\n",
      "Skew:                           3.760   Prob(JB):                         0.00\n",
      "Kurtosis:                      31.793   Cond. No.                         325.\n",
      "==============================================================================\n",
      "\n",
      "Warnings:\n",
      "[1] Standard Errors assume that the covariance matrix of the errors is correctly specified.\n"
     ]
    }
   ],
   "source": [
    "print(model3.summary())"
   ]
  },
  {
   "cell_type": "markdown",
   "metadata": {},
   "source": [
    "# Post-Model Building Assumption\n"
   ]
  },
  {
   "cell_type": "code",
   "execution_count": 51,
   "metadata": {},
   "outputs": [],
   "source": [
    "# No Autocorrelation"
   ]
  },
  {
   "cell_type": "markdown",
   "metadata": {},
   "source": [
    "DW TEST = 1.887. close to 2.0 means no Autocorrelation"
   ]
  },
  {
   "cell_type": "code",
   "execution_count": 52,
   "metadata": {},
   "outputs": [],
   "source": [
    "# Error should be random (Fitted vs Residual plot)"
   ]
  },
  {
   "cell_type": "code",
   "execution_count": 53,
   "metadata": {},
   "outputs": [
    {
     "data": {
      "text/plain": [
       "Text(0, 0.5, 'Residuals')"
      ]
     },
     "execution_count": 53,
     "metadata": {},
     "output_type": "execute_result"
    },
    {
     "data": {
      "image/png": "[encoded data removed]",
      "text/plain": [
       "<Figure size 864x576 with 1 Axes>"
      ]
     },
     "metadata": {
      "needs_background": "light"
     },
     "output_type": "display_data"
    }
   ],
   "source": [
    "\n",
    "\n",
    "plot_lm_1 = plt.figure(1)\n",
    "plot_lm_1.set_figheight(8)\n",
    "plot_lm_1.set_figwidth(12)\n",
    "\n",
    "model_fitted_y =model2.fittedvalues\n",
    "\n",
    "plot_lm_1.axes[0]=sns.residplot(model_fitted_y, 'charges',data=data,lowess=True)\n",
    "\n",
    "plot_lm_1.axes[0].set_title('Residuals vs Fitted')\n",
    "plot_lm_1.axes[0].set_xlabel('Fitted values')\n",
    "plot_lm_1.axes[0].set_ylabel('Residuals')"
   ]
  },
  {
   "cell_type": "code",
   "execution_count": 54,
   "metadata": {},
   "outputs": [],
   "source": [
    "# normal sclae"
   ]
  },
  {
   "cell_type": "code",
   "execution_count": 55,
   "metadata": {},
   "outputs": [
    {
     "data": {
      "text/plain": [
       "Text(0, 0.5, 'Residuals')"
      ]
     },
     "execution_count": 55,
     "metadata": {},
     "output_type": "execute_result"
    },
    {
     "data": {
      "image/png": "[encoded data removed]",
      "text/plain": [
       "<Figure size 864x576 with 1 Axes>"
      ]
     },
     "metadata": {
      "needs_background": "light"
     },
     "output_type": "display_data"
    }
   ],
   "source": [
    "# Error should be random (Fitted vs Residual plot)\n",
    "\n",
    "plot_lm_1 = plt.figure(1)\n",
    "plot_lm_1.set_figheight(8)\n",
    "plot_lm_1.set_figwidth(12)\n",
    "\n",
    "model_fitted_y =model3.fittedvalues\n",
    "\n",
    "plot_lm_1.axes[0]=sns.residplot(model_fitted_y, 'charges',data=data_1,lowess=True)\n",
    "\n",
    "plot_lm_1.axes[0].set_title('Residuals vs Fitted')\n",
    "plot_lm_1.axes[0].set_xlabel('Fitted values')\n",
    "plot_lm_1.axes[0].set_ylabel('Residuals')"
   ]
  },
  {
   "cell_type": "code",
   "execution_count": 56,
   "metadata": {},
   "outputs": [],
   "source": [
    "# Erro should follow normal dist (normal qq plot)"
   ]
  },
  {
   "cell_type": "code",
   "execution_count": 57,
   "metadata": {},
   "outputs": [
    {
     "data": {
      "image/png": "[encoded data removed]",
      "text/plain": [
       "<Figure size 432x288 with 1 Axes>"
      ]
     },
     "metadata": {
      "needs_background": "light"
     },
     "output_type": "display_data"
    }
   ],
   "source": [
    "res = model2.resid\n",
    "import statsmodels.api as stm\n",
    "import scipy.stats as stats\n",
    "fig = stm.qqplot(res, fit=True, line='45')\n",
    "plt.title('Normal Q-Q')\n",
    "plt.xlabel('Theoretical Quantiles')\n",
    "plt.ylabel('Standardized Quantiles')\n",
    "plt.show()"
   ]
  },
  {
   "cell_type": "code",
   "execution_count": 58,
   "metadata": {},
   "outputs": [
    {
     "data": {
      "image/png": "[encoded data removed]",
      "text/plain": [
       "<Figure size 432x288 with 1 Axes>"
      ]
     },
     "metadata": {
      "needs_background": "light"
     },
     "output_type": "display_data"
    }
   ],
   "source": [
    "res = model3.resid\n",
    "import statsmodels.api as stm\n",
    "import scipy.stats as stats\n",
    "fig = stm.qqplot(res, fit=True, line='45')\n",
    "plt.title('Normal Q-Q')\n",
    "plt.xlabel('Theoretical Quantiles')\n",
    "plt.ylabel('Standardized Quantiles')\n",
    "plt.show()"
   ]
  },
  {
   "cell_type": "code",
   "execution_count": 59,
   "metadata": {},
   "outputs": [],
   "source": [
    "# Error should have a constant varience "
   ]
  },
  {
   "cell_type": "code",
   "execution_count": 60,
   "metadata": {},
   "outputs": [
    {
     "data": {
      "text/plain": [
       "Text(0, 0.5, '$\\\\sqrt{|Standardized Residuals|}$')"
      ]
     },
     "execution_count": 60,
     "metadata": {},
     "output_type": "execute_result"
    },
    {
     "data": {
      "image/png": "[encoded data removed]",
      "text/plain": [
       "<Figure size 864x576 with 1 Axes>"
      ]
     },
     "metadata": {
      "needs_background": "light"
     },
     "output_type": "display_data"
    }
   ],
   "source": [
    "# normalized residuals\n",
    "model_norm_residuals = model2.get_influence().resid_studentized_internal\n",
    "# absolute squared normalized residuals\n",
    "model_norm_residuals_abs_sqrt = np.sqrt(np.abs(model_norm_residuals))\n",
    "\n",
    "plot_lm_3 = plt.figure(3)\n",
    "plot_lm_3.set_figheight(8)\n",
    "plot_lm_3.set_figwidth(12)\n",
    "plt.scatter(model_fitted_y, model_norm_residuals_abs_sqrt, alpha=0.5)\n",
    "sns.regplot(model_fitted_y, model_norm_residuals_abs_sqrt, lowess=True)\n",
    "\n",
    "\n",
    "plot_lm_3.axes[0].set_title('Scale-Location')\n",
    "plot_lm_3.axes[0].set_xlabel('Fitted values')\n",
    "plot_lm_3.axes[0].set_ylabel('$\\sqrt{|Standardized Residuals|}$')\n",
    "\n"
   ]
  },
  {
   "cell_type": "code",
   "execution_count": 61,
   "metadata": {},
   "outputs": [
    {
     "data": {
      "text/plain": [
       "Text(0, 0.5, '$\\\\sqrt{|Standardized Residuals|}$')"
      ]
     },
     "execution_count": 61,
     "metadata": {},
     "output_type": "execute_result"
    },
    {
     "data": {
      "image/png": "[encoded data removed]",
      "text/plain": [
       "<Figure size 864x576 with 1 Axes>"
      ]
     },
     "metadata": {
      "needs_background": "light"
     },
     "output_type": "display_data"
    }
   ],
   "source": [
    "# normalized residuals\n",
    "model_norm_residuals = model3.get_influence().resid_studentized_internal\n",
    "# absolute squared normalized residuals\n",
    "model_norm_residuals_abs_sqrt = np.sqrt(np.abs(model_norm_residuals))\n",
    "\n",
    "plot_lm_3 = plt.figure(3)\n",
    "plot_lm_3.set_figheight(8)\n",
    "plot_lm_3.set_figwidth(12)\n",
    "plt.scatter(model_fitted_y, model_norm_residuals_abs_sqrt, alpha=0.5)\n",
    "sns.regplot(model_fitted_y, model_norm_residuals_abs_sqrt, lowess=True)\n",
    "\n",
    "\n",
    "plot_lm_3.axes[0].set_title('Scale-Location')\n",
    "plot_lm_3.axes[0].set_xlabel('Fitted values')\n",
    "plot_lm_3.axes[0].set_ylabel('$\\sqrt{|Standardized Residuals|}$')\n",
    "\n"
   ]
  },
  {
   "cell_type": "code",
   "execution_count": null,
   "metadata": {},
   "outputs": [],
   "source": []
  },
  {
   "cell_type": "code",
   "execution_count": null,
   "metadata": {},
   "outputs": [],
   "source": []
  },
  {
   "cell_type": "code",
   "execution_count": null,
   "metadata": {},
   "outputs": [],
   "source": []
  },
  {
   "cell_type": "code",
   "execution_count": null,
   "metadata": {},
   "outputs": [],
   "source": []
  },
  {
   "cell_type": "code",
   "execution_count": null,
   "metadata": {},
   "outputs": [],
   "source": []
  },
  {
   "cell_type": "code",
   "execution_count": null,
   "metadata": {},
   "outputs": [],
   "source": [
    "from sklearn.metrics import confusion_matrix, accuracy_score, \\\n",
    "classification_report\n",
    "\n",
    "cfm=confusion_matrix(Y_test,y_pred_class)\n",
    "print(cfm)\n",
    "\n",
    "print('Classification report')\n",
    "\n",
    "print(classification_report(Y_test,y_pred_class))\n",
    "\n",
    "acc= accuracy_score(Y_test,y_pred_class)\n",
    "print(\"Accuracy of the model:\", acc)"
   ]
  }
 ],
 "metadata": {
  "kernelspec": {
   "display_name": "Python 3",
   "language": "python",
   "name": "python3"
  },
  "language_info": {
   "codemirror_mode": {
    "name": "ipython",
    "version": 3
   },
   "file_extension": ".py",
   "mimetype": "text/x-python",
   "name": "python",
   "nbconvert_exporter": "python",
   "pygments_lexer": "ipython3",
   "version": "3.7.1"
  }
 },
 "nbformat": 4,
 "nbformat_minor": 2
}
